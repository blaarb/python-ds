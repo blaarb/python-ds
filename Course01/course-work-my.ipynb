{
 "cells": [
  {
   "cell_type": "code",
   "execution_count": 1,
   "id": "744bacfe",
   "metadata": {},
   "outputs": [],
   "source": [
    "import pandas as pd\n",
    "import numpy as np\n",
    "import matplotlib.pyplot as plt\n",
    "plt.style.use(\"fivethirtyeight\")\n",
    "import seaborn as sns"
   ]
  },
  {
   "cell_type": "code",
   "execution_count": 2,
   "id": "b9eeb443",
   "metadata": {},
   "outputs": [],
   "source": [
    "from sklearn.model_selection import train_test_split\n",
    "from sklearn.preprocessing import StandardScaler\n",
    "scaler = StandardScaler()\n",
    "from sklearn.ensemble import RandomForestRegressor\n",
    "from sklearn.metrics import r2_score"
   ]
  },
  {
   "cell_type": "markdown",
   "id": "bb217bb1",
   "metadata": {},
   "source": [
    "Функция визуализации качества работы модели:"
   ]
  },
  {
   "cell_type": "markdown",
   "id": "cb29eb09",
   "metadata": {},
   "source": [
    "https://www.kaggle.com/competitions/real-estate-price-prediction-moscow/\n",
    "Ваша задача этом соревновании - предсказать цены на квартиры в датасете test.csv. Вам будут даны два датасета: train.csv (содержит признаки и цены на квартиры) и test.csv (только признаки)."
   ]
  },
  {
   "cell_type": "code",
   "execution_count": 3,
   "id": "1bd790c6",
   "metadata": {},
   "outputs": [],
   "source": [
    "uri = r\"C:/Users/tyunussov/Downloads/train.csv\"\n",
    "src = pd.read_csv(uri)"
   ]
  },
  {
   "cell_type": "code",
   "execution_count": 4,
   "id": "fbfeb285",
   "metadata": {},
   "outputs": [
    {
     "name": "stdout",
     "output_type": "stream",
     "text": [
      "<class 'pandas.core.frame.DataFrame'>\n",
      "RangeIndex: 10000 entries, 0 to 9999\n",
      "Data columns (total 20 columns):\n",
      " #   Column         Non-Null Count  Dtype  \n",
      "---  ------         --------------  -----  \n",
      " 0   Id             10000 non-null  int64  \n",
      " 1   DistrictId     10000 non-null  int64  \n",
      " 2   Rooms          10000 non-null  float64\n",
      " 3   Square         10000 non-null  float64\n",
      " 4   LifeSquare     7887 non-null   float64\n",
      " 5   KitchenSquare  10000 non-null  float64\n",
      " 6   Floor          10000 non-null  int64  \n",
      " 7   HouseFloor     10000 non-null  float64\n",
      " 8   HouseYear      10000 non-null  int64  \n",
      " 9   Ecology_1      10000 non-null  float64\n",
      " 10  Ecology_2      10000 non-null  object \n",
      " 11  Ecology_3      10000 non-null  object \n",
      " 12  Social_1       10000 non-null  int64  \n",
      " 13  Social_2       10000 non-null  int64  \n",
      " 14  Social_3       10000 non-null  int64  \n",
      " 15  Healthcare_1   5202 non-null   float64\n",
      " 16  Helthcare_2    10000 non-null  int64  \n",
      " 17  Shops_1        10000 non-null  int64  \n",
      " 18  Shops_2        10000 non-null  object \n",
      " 19  Price          10000 non-null  float64\n",
      "dtypes: float64(8), int64(9), object(3)\n",
      "memory usage: 1.5+ MB\n"
     ]
    }
   ],
   "source": [
    "src.info()"
   ]
  },
  {
   "cell_type": "markdown",
   "id": "f08c3e4a",
   "metadata": {},
   "source": [
    "Предсказать надо **Price**."
   ]
  },
  {
   "cell_type": "markdown",
   "id": "2fd04a35",
   "metadata": {},
   "source": [
    "### Обзор"
   ]
  },
  {
   "cell_type": "markdown",
   "id": "96193b22",
   "metadata": {},
   "source": [
    "Сразу бросается в глаза количество пробелов в LifeSquare и Healthcare_1. Кроме того, надо будет преобразовать признаки типа object или (возможно) отказаться от них."
   ]
  },
  {
   "cell_type": "code",
   "execution_count": 5,
   "id": "c1c408a3",
   "metadata": {},
   "outputs": [
    {
     "name": "stdout",
     "output_type": "stream",
     "text": [
      "B    9903\n",
      "A      97\n",
      "Name: Ecology_2, dtype: int64\n",
      "\n",
      "B    9725\n",
      "A     275\n",
      "Name: Ecology_3, dtype: int64\n",
      "\n",
      "B    9175\n",
      "A     825\n",
      "Name: Shops_2, dtype: int64\n"
     ]
    }
   ],
   "source": [
    "print(f\"{src['Ecology_2'].value_counts()}\\n\")\n",
    "print(f\"{src['Ecology_3'].value_counts()}\\n\")\n",
    "print(f\"{src['Shops_2'].value_counts()}\")"
   ]
  },
  {
   "cell_type": "markdown",
   "id": "ed08a370",
   "metadata": {},
   "source": [
    "Из-за несбалансированности этих признаков, их можно удалить:"
   ]
  },
  {
   "cell_type": "code",
   "execution_count": 6,
   "id": "9b49ca92",
   "metadata": {},
   "outputs": [],
   "source": [
    "src.drop([\"Ecology_2\", \"Ecology_3\", \"Shops_2\"], axis = 1, inplace = True)"
   ]
  },
  {
   "cell_type": "code",
   "execution_count": 7,
   "id": "51986660",
   "metadata": {},
   "outputs": [
    {
     "data": {
      "text/html": [
       "<div>\n",
       "<style scoped>\n",
       "    .dataframe tbody tr th:only-of-type {\n",
       "        vertical-align: middle;\n",
       "    }\n",
       "\n",
       "    .dataframe tbody tr th {\n",
       "        vertical-align: top;\n",
       "    }\n",
       "\n",
       "    .dataframe thead th {\n",
       "        text-align: right;\n",
       "    }\n",
       "</style>\n",
       "<table border=\"1\" class=\"dataframe\">\n",
       "  <thead>\n",
       "    <tr style=\"text-align: right;\">\n",
       "      <th></th>\n",
       "      <th>Id</th>\n",
       "      <th>DistrictId</th>\n",
       "      <th>Rooms</th>\n",
       "      <th>Square</th>\n",
       "      <th>LifeSquare</th>\n",
       "      <th>KitchenSquare</th>\n",
       "      <th>Floor</th>\n",
       "      <th>HouseFloor</th>\n",
       "      <th>HouseYear</th>\n",
       "      <th>Ecology_1</th>\n",
       "      <th>Social_1</th>\n",
       "      <th>Social_2</th>\n",
       "      <th>Social_3</th>\n",
       "      <th>Healthcare_1</th>\n",
       "      <th>Helthcare_2</th>\n",
       "      <th>Shops_1</th>\n",
       "      <th>Price</th>\n",
       "    </tr>\n",
       "  </thead>\n",
       "  <tbody>\n",
       "    <tr>\n",
       "      <th>1</th>\n",
       "      <td>3013</td>\n",
       "      <td>22</td>\n",
       "      <td>1.0</td>\n",
       "      <td>39.832524</td>\n",
       "      <td>23.169223</td>\n",
       "      <td>8.0</td>\n",
       "      <td>7</td>\n",
       "      <td>8.0</td>\n",
       "      <td>1966</td>\n",
       "      <td>0.118537</td>\n",
       "      <td>30</td>\n",
       "      <td>6207</td>\n",
       "      <td>1</td>\n",
       "      <td>1183.0</td>\n",
       "      <td>1</td>\n",
       "      <td>0</td>\n",
       "      <td>177734.553407</td>\n",
       "    </tr>\n",
       "  </tbody>\n",
       "</table>\n",
       "</div>"
      ],
      "text/plain": [
       "     Id  DistrictId  Rooms     Square  LifeSquare  KitchenSquare  Floor  \\\n",
       "1  3013          22    1.0  39.832524   23.169223            8.0      7   \n",
       "\n",
       "   HouseFloor  HouseYear  Ecology_1  Social_1  Social_2  Social_3  \\\n",
       "1         8.0       1966   0.118537        30      6207         1   \n",
       "\n",
       "   Healthcare_1  Helthcare_2  Shops_1          Price  \n",
       "1        1183.0            1        0  177734.553407  "
      ]
     },
     "execution_count": 7,
     "metadata": {},
     "output_type": "execute_result"
    }
   ],
   "source": [
    "src.sample()"
   ]
  },
  {
   "cell_type": "markdown",
   "id": "b30cdcb3",
   "metadata": {},
   "source": [
    "### Обработка пропусков и выбросов"
   ]
  },
  {
   "cell_type": "markdown",
   "id": "f6ddc822",
   "metadata": {},
   "source": [
    "#### Признак Id"
   ]
  },
  {
   "cell_type": "code",
   "execution_count": 8,
   "id": "895d415c",
   "metadata": {},
   "outputs": [
    {
     "data": {
      "text/plain": [
       "count    10000.00000\n",
       "mean      8383.40770\n",
       "std       4859.01902\n",
       "min          0.00000\n",
       "25%       4169.50000\n",
       "50%       8394.50000\n",
       "75%      12592.50000\n",
       "max      16798.00000\n",
       "Name: Id, dtype: float64"
      ]
     },
     "execution_count": 8,
     "metadata": {},
     "output_type": "execute_result"
    }
   ],
   "source": [
    "src[\"Id\"].describe()"
   ]
  },
  {
   "cell_type": "code",
   "execution_count": 9,
   "id": "107b8457",
   "metadata": {},
   "outputs": [
    {
     "data": {
      "text/plain": [
       "11809    1\n",
       "2906     1\n",
       "5039     1\n",
       "6213     1\n",
       "12319    1\n",
       "        ..\n",
       "2351     1\n",
       "13054    1\n",
       "1512     1\n",
       "11813    1\n",
       "7202     1\n",
       "Name: Id, Length: 10000, dtype: int64"
      ]
     },
     "execution_count": 9,
     "metadata": {},
     "output_type": "execute_result"
    }
   ],
   "source": [
    "src[\"Id\"].value_counts()"
   ]
  },
  {
   "cell_type": "markdown",
   "id": "8efd638a",
   "metadata": {},
   "source": [
    "Едва ли одно наблюдение с нулевым id как-то повлияет на работу модели."
   ]
  },
  {
   "cell_type": "markdown",
   "id": "30d31ea4",
   "metadata": {},
   "source": [
    "#### Признак DistrictId"
   ]
  },
  {
   "cell_type": "code",
   "execution_count": 10,
   "id": "0d93320c",
   "metadata": {},
   "outputs": [
    {
     "data": {
      "text/plain": [
       "count    10000.000000\n",
       "mean        50.400800\n",
       "std         43.587592\n",
       "min          0.000000\n",
       "25%         20.000000\n",
       "50%         36.000000\n",
       "75%         75.000000\n",
       "max        209.000000\n",
       "Name: DistrictId, dtype: float64"
      ]
     },
     "execution_count": 10,
     "metadata": {},
     "output_type": "execute_result"
    }
   ],
   "source": [
    "src[\"DistrictId\"].describe()"
   ]
  },
  {
   "cell_type": "code",
   "execution_count": 11,
   "id": "bb92b20d",
   "metadata": {},
   "outputs": [
    {
     "data": {
      "text/plain": [
       "48"
      ]
     },
     "execution_count": 11,
     "metadata": {},
     "output_type": "execute_result"
    }
   ],
   "source": [
    "src.loc[src[\"DistrictId\"] < 1].shape[0]"
   ]
  },
  {
   "cell_type": "markdown",
   "id": "2b209cec",
   "metadata": {},
   "source": [
    "Есть 48 наблюдений с нулевым id, но я думаю нулевой номер района тоже можно считать нормальным."
   ]
  },
  {
   "cell_type": "markdown",
   "id": "9468e9b8",
   "metadata": {},
   "source": [
    "#### Признак Rooms"
   ]
  },
  {
   "cell_type": "code",
   "execution_count": 12,
   "id": "497a9988",
   "metadata": {},
   "outputs": [
    {
     "data": {
      "text/plain": [
       "count    10000.000000\n",
       "mean         1.890500\n",
       "std          0.839512\n",
       "min          0.000000\n",
       "25%          1.000000\n",
       "50%          2.000000\n",
       "75%          2.000000\n",
       "max         19.000000\n",
       "Name: Rooms, dtype: float64"
      ]
     },
     "execution_count": 12,
     "metadata": {},
     "output_type": "execute_result"
    }
   ],
   "source": [
    "src[\"Rooms\"].describe()"
   ]
  },
  {
   "cell_type": "code",
   "execution_count": 13,
   "id": "ee7f2737",
   "metadata": {},
   "outputs": [
    {
     "data": {
      "image/png": "[encoded data removed]",
      "text/plain": [
       "<Figure size 432x288 with 1 Axes>"
      ]
     },
     "metadata": {},
     "output_type": "display_data"
    }
   ],
   "source": [
    "src[\"Rooms\"].hist(fc = 'brown')\n",
    "plt.show()"
   ]
  },
  {
   "cell_type": "markdown",
   "id": "b774f7cc",
   "metadata": {},
   "source": [
    "Значения больше 6 комнат - явный выброс. Уберем его:"
   ]
  },
  {
   "cell_type": "code",
   "execution_count": 14,
   "id": "0a8ec9e5",
   "metadata": {},
   "outputs": [],
   "source": [
    "src.loc[src[\"Rooms\"] > 6, \"Rooms\"] = src[\"Rooms\"].median()"
   ]
  },
  {
   "cell_type": "markdown",
   "id": "b1424be6",
   "metadata": {},
   "source": [
    "#### Признак KitchenSquare"
   ]
  },
  {
   "cell_type": "code",
   "execution_count": 15,
   "id": "b22f3250",
   "metadata": {},
   "outputs": [
    {
     "data": {
      "text/plain": [
       "count    10000.000000\n",
       "mean         6.273300\n",
       "std         28.560917\n",
       "min          0.000000\n",
       "25%          1.000000\n",
       "50%          6.000000\n",
       "75%          9.000000\n",
       "max       2014.000000\n",
       "Name: KitchenSquare, dtype: float64"
      ]
     },
     "execution_count": 15,
     "metadata": {},
     "output_type": "execute_result"
    }
   ],
   "source": [
    "src[\"KitchenSquare\"].describe()"
   ]
  },
  {
   "cell_type": "code",
   "execution_count": 16,
   "id": "51c80b7c",
   "metadata": {},
   "outputs": [
    {
     "name": "stdout",
     "output_type": "stream",
     "text": [
      "98 квантиль = 13.0\n"
     ]
    }
   ],
   "source": [
    "print(f'98 квантиль = {src[\"KitchenSquare\"].quantile(0.98)}')"
   ]
  },
  {
   "cell_type": "code",
   "execution_count": 17,
   "id": "fe8f421b",
   "metadata": {},
   "outputs": [],
   "source": [
    "kitchen_condition = (src[\"KitchenSquare\"] > src[\"KitchenSquare\"].quantile(0.98)) | (src[\"KitchenSquare\"] < 1)\n",
    "src.loc[kitchen_condition, \"KitchenSquare\"] = src[\"KitchenSquare\"].median()"
   ]
  },
  {
   "cell_type": "markdown",
   "id": "5454223f",
   "metadata": {},
   "source": [
    "#### Признак Square"
   ]
  },
  {
   "cell_type": "code",
   "execution_count": 18,
   "id": "83581d0a",
   "metadata": {},
   "outputs": [
    {
     "data": {
      "image/png": "[encoded data removed]",
      "text/plain": [
       "<Figure size 432x288 with 1 Axes>"
      ]
     },
     "metadata": {},
     "output_type": "display_data"
    }
   ],
   "source": [
    "src[\"Square\"].hist(bins = 100)\n",
    "plt.show()"
   ]
  },
  {
   "cell_type": "markdown",
   "id": "bd928628",
   "metadata": {},
   "source": [
    "Проверим квартиры менее 10 кв метров."
   ]
  },
  {
   "cell_type": "code",
   "execution_count": 19,
   "id": "f37c89ab",
   "metadata": {},
   "outputs": [
    {
     "data": {
      "text/plain": [
       "12"
      ]
     },
     "execution_count": 19,
     "metadata": {},
     "output_type": "execute_result"
    }
   ],
   "source": [
    "src.loc[src[\"Square\"] <= 10].shape[0]"
   ]
  },
  {
   "cell_type": "markdown",
   "id": "60fb1b76",
   "metadata": {},
   "source": [
    "Определим границы, за которыми будут выбросы по формуле из источника https://www.youtube.com/watch?v=SaF2G5WMwtg&t=470s"
   ]
  },
  {
   "cell_type": "code",
   "execution_count": 20,
   "id": "72c36b0b",
   "metadata": {},
   "outputs": [
    {
     "name": "stdout",
     "output_type": "stream",
     "text": [
      "Межквартильный размах, первый и третий квартили: (24.125744426186976, 41.774880819469836, 65.90062524565681)\n",
      "Медиана, среднее арифметическое: (52.51330992401352, 56.31577519793557)\n"
     ]
    }
   ],
   "source": [
    "square_q3 = src[\"Square\"].quantile(0.75)\n",
    "square_q1 = src[\"Square\"].quantile(0.25)\n",
    "square_interq = square_q3 - square_q1\n",
    "square_condition = (src[\"Square\"] < square_q1 - square_interq * 1.5) | (src[\"Square\"] > square_q3 + square_interq * 1.5)\n",
    "print(f\"Межквартильный размах, первый и третий квартили: {square_interq, square_q1, square_q3}\")\n",
    "print(f\"Медиана, среднее арифметическое: {src['Square'].median(), src['Square'].mean()}\")"
   ]
  },
  {
   "cell_type": "code",
   "execution_count": 21,
   "id": "4914188b",
   "metadata": {},
   "outputs": [],
   "source": [
    "src.loc[square_condition, \"Square\"] = src[\"Square\"].median()"
   ]
  },
  {
   "cell_type": "code",
   "execution_count": 22,
   "id": "47995141",
   "metadata": {},
   "outputs": [
    {
     "data": {
      "image/png": "[encoded data removed]",
      "text/plain": [
       "<Figure size 432x288 with 1 Axes>"
      ]
     },
     "metadata": {},
     "output_type": "display_data"
    }
   ],
   "source": [
    "src[\"Square\"].hist(bins = 100)\n",
    "plt.show()"
   ]
  },
  {
   "cell_type": "code",
   "execution_count": 23,
   "id": "c0fbc8b3",
   "metadata": {},
   "outputs": [],
   "source": [
    "wrong_square_indexes = src.loc[src[\"Square\"] <= src[\"LifeSquare\"]].index"
   ]
  },
  {
   "cell_type": "code",
   "execution_count": 24,
   "id": "b66a28a9",
   "metadata": {},
   "outputs": [],
   "source": [
    "src.loc[wrong_square_indexes, \"LifeSquare\"] = src.loc[wrong_square_indexes, \"Square\"] - src.loc[wrong_square_indexes, \"KitchenSquare\"]"
   ]
  },
  {
   "cell_type": "markdown",
   "id": "be0f92cc",
   "metadata": {},
   "source": [
    "#### Признак LifeSquare"
   ]
  },
  {
   "cell_type": "code",
   "execution_count": 25,
   "id": "a4f3fec9",
   "metadata": {},
   "outputs": [
    {
     "data": {
      "text/plain": [
       "count    7887.000000\n",
       "mean       34.894929\n",
       "std        15.184619\n",
       "min         0.370619\n",
       "25%        22.761965\n",
       "50%        32.624585\n",
       "75%        44.529122\n",
       "max        99.970065\n",
       "Name: LifeSquare, dtype: float64"
      ]
     },
     "execution_count": 25,
     "metadata": {},
     "output_type": "execute_result"
    }
   ],
   "source": [
    "src[\"LifeSquare\"].describe()"
   ]
  },
  {
   "cell_type": "markdown",
   "id": "0b05f325",
   "metadata": {},
   "source": [
    "Очевидно, что значение 7480.592129 - это ошибка. Также минимальное значение 0.370619 едва ли может быть похоже на кол-во жилой площади к квартире. Заменим значения меньше 1 кв метра и больше 0.99 перцентиля."
   ]
  },
  {
   "cell_type": "code",
   "execution_count": 26,
   "id": "58b862b2",
   "metadata": {},
   "outputs": [],
   "source": [
    "ls_quantile99 = src[\"LifeSquare\"].quantile(0.99)\n",
    "ls_quantile_condition = (src[\"LifeSquare\"] > ls_quantile99) | (src[\"LifeSquare\"] < 1)"
   ]
  },
  {
   "cell_type": "code",
   "execution_count": 27,
   "id": "470476bb",
   "metadata": {},
   "outputs": [],
   "source": [
    "src.loc[ls_quantile_condition, \"LifeSquare\"] = src[\"LifeSquare\"].median()"
   ]
  },
  {
   "cell_type": "code",
   "execution_count": 28,
   "id": "323d8dfb",
   "metadata": {},
   "outputs": [
    {
     "data": {
      "image/png": "[encoded data removed]",
      "text/plain": [
       "<Figure size 432x288 with 1 Axes>"
      ]
     },
     "metadata": {},
     "output_type": "display_data"
    }
   ],
   "source": [
    "plt.hist(src[\"LifeSquare\"], bins = 100, fc = 'darkblue', log = True)\n",
    "plt.show()"
   ]
  },
  {
   "cell_type": "markdown",
   "id": "0b1d5a2a",
   "metadata": {},
   "source": [
    "Возможно значение до 10 кв метров - выбросы, но все же не будем их исключать, поскольку я не уверен в этом."
   ]
  },
  {
   "cell_type": "markdown",
   "id": "5abcd50a",
   "metadata": {},
   "source": [
    "Теперь заменим неопределенные значения на медиану:"
   ]
  },
  {
   "cell_type": "code",
   "execution_count": 29,
   "id": "13d212c6",
   "metadata": {},
   "outputs": [],
   "source": [
    "src.loc[src[\"LifeSquare\"].isna() == True, \"LifeSquare\"] = src[\"LifeSquare\"].median()"
   ]
  },
  {
   "cell_type": "code",
   "execution_count": 30,
   "id": "144db56f",
   "metadata": {},
   "outputs": [
    {
     "data": {
      "text/plain": [
       "count    10000.000000\n",
       "mean        33.983102\n",
       "std         12.586738\n",
       "min          1.049867\n",
       "25%         25.491704\n",
       "50%         32.624585\n",
       "75%         40.152612\n",
       "max         82.237415\n",
       "Name: LifeSquare, dtype: float64"
      ]
     },
     "execution_count": 30,
     "metadata": {},
     "output_type": "execute_result"
    }
   ],
   "source": [
    "src[\"LifeSquare\"].describe()"
   ]
  },
  {
   "cell_type": "code",
   "execution_count": 31,
   "id": "d7db0427",
   "metadata": {},
   "outputs": [
    {
     "data": {
      "image/png": "[encoded data removed]",
      "text/plain": [
       "<Figure size 432x288 with 1 Axes>"
      ]
     },
     "metadata": {},
     "output_type": "display_data"
    }
   ],
   "source": [
    "plt.hist(src[\"LifeSquare\"], bins = 100, fc = 'darkblue', log = True)\n",
    "plt.show()"
   ]
  },
  {
   "cell_type": "markdown",
   "id": "1e476760",
   "metadata": {},
   "source": [
    "#### Признак этажности"
   ]
  },
  {
   "cell_type": "code",
   "execution_count": 32,
   "id": "550431dd",
   "metadata": {},
   "outputs": [
    {
     "data": {
      "text/plain": [
       "count    10000.000000\n",
       "mean         8.526700\n",
       "std          5.241148\n",
       "min          1.000000\n",
       "25%          4.000000\n",
       "50%          7.000000\n",
       "75%         12.000000\n",
       "max         42.000000\n",
       "Name: Floor, dtype: float64"
      ]
     },
     "execution_count": 32,
     "metadata": {},
     "output_type": "execute_result"
    }
   ],
   "source": [
    "src[\"Floor\"].describe()"
   ]
  },
  {
   "cell_type": "markdown",
   "id": "da38b00a",
   "metadata": {},
   "source": [
    "С количеством этажей похоже все в порядке. По данным из сети в Москве есть и 50 этажные дома. Проверим, нет ли противоречий между заявленным этажом квартиры и высотой дома:"
   ]
  },
  {
   "cell_type": "code",
   "execution_count": 33,
   "id": "3c3a49ba",
   "metadata": {},
   "outputs": [
    {
     "data": {
      "text/plain": [
       "(1825, 17)"
      ]
     },
     "execution_count": 33,
     "metadata": {},
     "output_type": "execute_result"
    }
   ],
   "source": [
    "src.loc[src[\"Floor\"] > src[\"HouseFloor\"]].shape"
   ]
  },
  {
   "cell_type": "markdown",
   "id": "8533e4f6",
   "metadata": {},
   "source": [
    "Есть случаи где этаж больше высоты. Приравняем такие этажи высоте:"
   ]
  },
  {
   "cell_type": "code",
   "execution_count": 34,
   "id": "262f26cb",
   "metadata": {},
   "outputs": [],
   "source": [
    "wrong_floor_indexes = src.loc[src[\"Floor\"] > src[\"HouseFloor\"]].index\n",
    "src.loc[wrong_floor_indexes, \"Floor\"] = src.loc[wrong_floor_indexes, \"HouseFloor\"]"
   ]
  },
  {
   "cell_type": "markdown",
   "id": "9664195a",
   "metadata": {},
   "source": [
    "#### Признак HouseYear"
   ]
  },
  {
   "cell_type": "code",
   "execution_count": 35,
   "id": "286e7a0a",
   "metadata": {},
   "outputs": [],
   "source": [
    "src[\"HouseYear\"] = src[\"HouseYear\"].astype(np.int32)"
   ]
  },
  {
   "cell_type": "code",
   "execution_count": 36,
   "id": "4488a22f",
   "metadata": {},
   "outputs": [
    {
     "data": {
      "text/plain": [
       "(1910,\n",
       " 8828        4968\n",
       " 9163    20052011\n",
       " Name: HouseYear, dtype: int32)"
      ]
     },
     "execution_count": 36,
     "metadata": {},
     "output_type": "execute_result"
    }
   ],
   "source": [
    "src[\"HouseYear\"].min(), src.loc[src[\"HouseYear\"] > 2022, \"HouseYear\"]"
   ]
  },
  {
   "cell_type": "markdown",
   "id": "774b4890",
   "metadata": {},
   "source": [
    "Видно, что есть явные выбросы сверху, но их всего два, и можно заменить их на медиану:"
   ]
  },
  {
   "cell_type": "code",
   "execution_count": 37,
   "id": "59b475cb",
   "metadata": {},
   "outputs": [],
   "source": [
    "src.loc[src[\"HouseYear\"] > 2022, \"HouseYear\"] = src[\"HouseYear\"].median()"
   ]
  },
  {
   "cell_type": "markdown",
   "id": "a29a1b0b",
   "metadata": {},
   "source": [
    "#### Признак Healthcare_1"
   ]
  },
  {
   "cell_type": "code",
   "execution_count": 38,
   "id": "1d0896d8",
   "metadata": {},
   "outputs": [
    {
     "data": {
      "image/png": "[encoded data removed]",
      "text/plain": [
       "<Figure size 432x288 with 1 Axes>"
      ]
     },
     "metadata": {},
     "output_type": "display_data"
    }
   ],
   "source": [
    "plt.hist(src[\"Healthcare_1\"], bins = 10, fc = 'purple')\n",
    "plt.show()"
   ]
  },
  {
   "cell_type": "markdown",
   "id": "0a3ce912",
   "metadata": {},
   "source": [
    "Замена пустых значений на медиану или среднюю может исказить реальную картину. Можно попробовать предсказать недостающие значения с помощью модели машинного обучения. Для этого сначала отберем все наблюдения с известным признаком Healthcare_1 в отдельный датафрейм: "
   ]
  },
  {
   "cell_type": "code",
   "execution_count": 39,
   "id": "75573fe6",
   "metadata": {},
   "outputs": [],
   "source": [
    "hs1_X = src.loc[src[\"Healthcare_1\"].isna() == False].copy()\n",
    "hs1_y = src.loc[src[\"Healthcare_1\"].isna() == False, \"Healthcare_1\"].copy()\n",
    "hs1_X.drop([\"Healthcare_1\", \"Price\"], axis = 1, inplace = True)"
   ]
  },
  {
   "cell_type": "markdown",
   "id": "5e2c1aa4",
   "metadata": {},
   "source": [
    "Теперь разобьем новый датафрейм на тренировочный и тестовый:"
   ]
  },
  {
   "cell_type": "code",
   "execution_count": 40,
   "id": "ccf52417",
   "metadata": {},
   "outputs": [],
   "source": [
    "hs1_X_train, hs1_X_test, hs1_y_train, hs1_y_test = train_test_split(hs1_X, hs1_y, test_size=0.3, random_state = 42)"
   ]
  },
  {
   "cell_type": "markdown",
   "id": "c6ed91c1",
   "metadata": {},
   "source": [
    "Чтобы минимизировать влияние масштаба данных на результат применим стандартизацию:"
   ]
  },
  {
   "cell_type": "code",
   "execution_count": 41,
   "id": "9338a18a",
   "metadata": {},
   "outputs": [],
   "source": [
    "hs1_X_train_scaled = scaler.fit_transform(hs1_X_train)\n",
    "hs1_X_train_scaled = pd.DataFrame(hs1_X_train_scaled, columns = hs1_X_train.columns)\n",
    "\n",
    "hs1_X_test_scaled = scaler.fit_transform(hs1_X_test)\n",
    "hs1_X_test_scaled = pd.DataFrame(hs1_X_test_scaled, columns = hs1_X_test.columns)"
   ]
  },
  {
   "cell_type": "markdown",
   "id": "b8d086d9",
   "metadata": {},
   "source": [
    "Теперь применим регрессионную модель RandomForestRegressor и натренируем ее на стандартизированных данных. Я взял эту модель, поскольку нам нужна регрессия, но линейная зависимость или нет, я не знаю."
   ]
  },
  {
   "cell_type": "code",
   "execution_count": 42,
   "id": "0b3f0cf0",
   "metadata": {},
   "outputs": [
    {
     "data": {
      "text/plain": [
       "RandomForestRegressor(max_depth=12, n_estimators=1000, n_jobs=-1,\n",
       "                      random_state=42)"
      ]
     },
     "execution_count": 42,
     "metadata": {},
     "output_type": "execute_result"
    }
   ],
   "source": [
    "model = RandomForestRegressor(n_estimators = 1000, max_depth = 12, random_state = 42, n_jobs=-1)\n",
    "model.fit(hs1_X_train_scaled, hs1_y_train)"
   ]
  },
  {
   "cell_type": "markdown",
   "id": "cdeb015f",
   "metadata": {},
   "source": [
    "Проверим, как модель предскажет значения и оценим качество с помощью метрики R2:"
   ]
  },
  {
   "cell_type": "code",
   "execution_count": 43,
   "id": "25547f93",
   "metadata": {},
   "outputs": [
    {
     "data": {
      "text/plain": [
       "array([1598.48514512, 2250.00360399,  591.721     , ...,  591.721     ,\n",
       "        295.558     ,  591.721     ])"
      ]
     },
     "execution_count": 43,
     "metadata": {},
     "output_type": "execute_result"
    }
   ],
   "source": [
    "test_prediction = model.predict(hs1_X_test_scaled)\n",
    "test_prediction"
   ]
  },
  {
   "cell_type": "code",
   "execution_count": 44,
   "id": "92a67518",
   "metadata": {},
   "outputs": [
    {
     "data": {
      "text/plain": [
       "0.9129539703139068"
      ]
     },
     "execution_count": 44,
     "metadata": {},
     "output_type": "execute_result"
    }
   ],
   "source": [
    "r2_score(hs1_y_test, test_prediction)"
   ]
  },
  {
   "cell_type": "markdown",
   "id": "63e3695b",
   "metadata": {},
   "source": [
    "R2 получился довольно высоким. Значит, воспользуемся этой же моделью для предсказания неизвестных значений Healthcare_1."
   ]
  },
  {
   "cell_type": "code",
   "execution_count": 45,
   "id": "860c5e5f",
   "metadata": {},
   "outputs": [
    {
     "data": {
      "text/html": [
       "<div>\n",
       "<style scoped>\n",
       "    .dataframe tbody tr th:only-of-type {\n",
       "        vertical-align: middle;\n",
       "    }\n",
       "\n",
       "    .dataframe tbody tr th {\n",
       "        vertical-align: top;\n",
       "    }\n",
       "\n",
       "    .dataframe thead th {\n",
       "        text-align: right;\n",
       "    }\n",
       "</style>\n",
       "<table border=\"1\" class=\"dataframe\">\n",
       "  <thead>\n",
       "    <tr style=\"text-align: right;\">\n",
       "      <th></th>\n",
       "      <th>Id</th>\n",
       "      <th>DistrictId</th>\n",
       "      <th>Rooms</th>\n",
       "      <th>Square</th>\n",
       "      <th>LifeSquare</th>\n",
       "      <th>KitchenSquare</th>\n",
       "      <th>Floor</th>\n",
       "      <th>HouseFloor</th>\n",
       "      <th>HouseYear</th>\n",
       "      <th>Ecology_1</th>\n",
       "      <th>Social_1</th>\n",
       "      <th>Social_2</th>\n",
       "      <th>Social_3</th>\n",
       "      <th>Helthcare_2</th>\n",
       "      <th>Shops_1</th>\n",
       "    </tr>\n",
       "  </thead>\n",
       "  <tbody>\n",
       "    <tr>\n",
       "      <th>0</th>\n",
       "      <td>11809</td>\n",
       "      <td>27</td>\n",
       "      <td>3.0</td>\n",
       "      <td>52.513310</td>\n",
       "      <td>32.624585</td>\n",
       "      <td>10.0</td>\n",
       "      <td>4</td>\n",
       "      <td>10.0</td>\n",
       "      <td>2014</td>\n",
       "      <td>0.075424</td>\n",
       "      <td>11</td>\n",
       "      <td>3097</td>\n",
       "      <td>0</td>\n",
       "      <td>0</td>\n",
       "      <td>0</td>\n",
       "    </tr>\n",
       "    <tr>\n",
       "      <th>3</th>\n",
       "      <td>2352</td>\n",
       "      <td>1</td>\n",
       "      <td>1.0</td>\n",
       "      <td>40.409907</td>\n",
       "      <td>32.624585</td>\n",
       "      <td>1.0</td>\n",
       "      <td>10</td>\n",
       "      <td>22.0</td>\n",
       "      <td>1977</td>\n",
       "      <td>0.007122</td>\n",
       "      <td>1</td>\n",
       "      <td>264</td>\n",
       "      <td>0</td>\n",
       "      <td>0</td>\n",
       "      <td>1</td>\n",
       "    </tr>\n",
       "    <tr>\n",
       "      <th>4</th>\n",
       "      <td>13866</td>\n",
       "      <td>94</td>\n",
       "      <td>2.0</td>\n",
       "      <td>64.285067</td>\n",
       "      <td>38.562517</td>\n",
       "      <td>9.0</td>\n",
       "      <td>16</td>\n",
       "      <td>16.0</td>\n",
       "      <td>1972</td>\n",
       "      <td>0.282798</td>\n",
       "      <td>33</td>\n",
       "      <td>8667</td>\n",
       "      <td>2</td>\n",
       "      <td>0</td>\n",
       "      <td>6</td>\n",
       "    </tr>\n",
       "    <tr>\n",
       "      <th>8</th>\n",
       "      <td>9951</td>\n",
       "      <td>1</td>\n",
       "      <td>1.0</td>\n",
       "      <td>46.887892</td>\n",
       "      <td>44.628132</td>\n",
       "      <td>1.0</td>\n",
       "      <td>12</td>\n",
       "      <td>20.0</td>\n",
       "      <td>1977</td>\n",
       "      <td>0.007122</td>\n",
       "      <td>1</td>\n",
       "      <td>264</td>\n",
       "      <td>0</td>\n",
       "      <td>0</td>\n",
       "      <td>1</td>\n",
       "    </tr>\n",
       "    <tr>\n",
       "      <th>11</th>\n",
       "      <td>16755</td>\n",
       "      <td>88</td>\n",
       "      <td>2.0</td>\n",
       "      <td>53.975144</td>\n",
       "      <td>34.153584</td>\n",
       "      <td>8.0</td>\n",
       "      <td>2</td>\n",
       "      <td>12.0</td>\n",
       "      <td>1978</td>\n",
       "      <td>0.127376</td>\n",
       "      <td>43</td>\n",
       "      <td>8429</td>\n",
       "      <td>3</td>\n",
       "      <td>3</td>\n",
       "      <td>9</td>\n",
       "    </tr>\n",
       "    <tr>\n",
       "      <th>...</th>\n",
       "      <td>...</td>\n",
       "      <td>...</td>\n",
       "      <td>...</td>\n",
       "      <td>...</td>\n",
       "      <td>...</td>\n",
       "      <td>...</td>\n",
       "      <td>...</td>\n",
       "      <td>...</td>\n",
       "      <td>...</td>\n",
       "      <td>...</td>\n",
       "      <td>...</td>\n",
       "      <td>...</td>\n",
       "      <td>...</td>\n",
       "      <td>...</td>\n",
       "      <td>...</td>\n",
       "    </tr>\n",
       "    <tr>\n",
       "      <th>9993</th>\n",
       "      <td>9289</td>\n",
       "      <td>1</td>\n",
       "      <td>3.0</td>\n",
       "      <td>84.486078</td>\n",
       "      <td>78.486078</td>\n",
       "      <td>6.0</td>\n",
       "      <td>4</td>\n",
       "      <td>22.0</td>\n",
       "      <td>2016</td>\n",
       "      <td>0.007122</td>\n",
       "      <td>1</td>\n",
       "      <td>264</td>\n",
       "      <td>0</td>\n",
       "      <td>0</td>\n",
       "      <td>1</td>\n",
       "    </tr>\n",
       "    <tr>\n",
       "      <th>9995</th>\n",
       "      <td>1260</td>\n",
       "      <td>61</td>\n",
       "      <td>2.0</td>\n",
       "      <td>49.090728</td>\n",
       "      <td>33.272626</td>\n",
       "      <td>6.0</td>\n",
       "      <td>3</td>\n",
       "      <td>12.0</td>\n",
       "      <td>1981</td>\n",
       "      <td>0.300323</td>\n",
       "      <td>52</td>\n",
       "      <td>10311</td>\n",
       "      <td>6</td>\n",
       "      <td>1</td>\n",
       "      <td>9</td>\n",
       "    </tr>\n",
       "    <tr>\n",
       "      <th>9996</th>\n",
       "      <td>16265</td>\n",
       "      <td>27</td>\n",
       "      <td>2.0</td>\n",
       "      <td>64.307684</td>\n",
       "      <td>37.038420</td>\n",
       "      <td>9.0</td>\n",
       "      <td>0</td>\n",
       "      <td>0.0</td>\n",
       "      <td>1977</td>\n",
       "      <td>0.072158</td>\n",
       "      <td>2</td>\n",
       "      <td>629</td>\n",
       "      <td>1</td>\n",
       "      <td>0</td>\n",
       "      <td>0</td>\n",
       "    </tr>\n",
       "    <tr>\n",
       "      <th>9997</th>\n",
       "      <td>2795</td>\n",
       "      <td>178</td>\n",
       "      <td>1.0</td>\n",
       "      <td>29.648057</td>\n",
       "      <td>16.555363</td>\n",
       "      <td>5.0</td>\n",
       "      <td>3</td>\n",
       "      <td>5.0</td>\n",
       "      <td>1958</td>\n",
       "      <td>0.460556</td>\n",
       "      <td>20</td>\n",
       "      <td>4386</td>\n",
       "      <td>14</td>\n",
       "      <td>1</td>\n",
       "      <td>5</td>\n",
       "    </tr>\n",
       "    <tr>\n",
       "      <th>9999</th>\n",
       "      <td>7202</td>\n",
       "      <td>94</td>\n",
       "      <td>1.0</td>\n",
       "      <td>35.815476</td>\n",
       "      <td>22.301367</td>\n",
       "      <td>6.0</td>\n",
       "      <td>9</td>\n",
       "      <td>9.0</td>\n",
       "      <td>1975</td>\n",
       "      <td>0.127376</td>\n",
       "      <td>43</td>\n",
       "      <td>8429</td>\n",
       "      <td>3</td>\n",
       "      <td>3</td>\n",
       "      <td>9</td>\n",
       "    </tr>\n",
       "  </tbody>\n",
       "</table>\n",
       "<p>4798 rows × 15 columns</p>\n",
       "</div>"
      ],
      "text/plain": [
       "         Id  DistrictId  Rooms     Square  LifeSquare  KitchenSquare  Floor  \\\n",
       "0     11809          27    3.0  52.513310   32.624585           10.0      4   \n",
       "3      2352           1    1.0  40.409907   32.624585            1.0     10   \n",
       "4     13866          94    2.0  64.285067   38.562517            9.0     16   \n",
       "8      9951           1    1.0  46.887892   44.628132            1.0     12   \n",
       "11    16755          88    2.0  53.975144   34.153584            8.0      2   \n",
       "...     ...         ...    ...        ...         ...            ...    ...   \n",
       "9993   9289           1    3.0  84.486078   78.486078            6.0      4   \n",
       "9995   1260          61    2.0  49.090728   33.272626            6.0      3   \n",
       "9996  16265          27    2.0  64.307684   37.038420            9.0      0   \n",
       "9997   2795         178    1.0  29.648057   16.555363            5.0      3   \n",
       "9999   7202          94    1.0  35.815476   22.301367            6.0      9   \n",
       "\n",
       "      HouseFloor  HouseYear  Ecology_1  Social_1  Social_2  Social_3  \\\n",
       "0           10.0       2014   0.075424        11      3097         0   \n",
       "3           22.0       1977   0.007122         1       264         0   \n",
       "4           16.0       1972   0.282798        33      8667         2   \n",
       "8           20.0       1977   0.007122         1       264         0   \n",
       "11          12.0       1978   0.127376        43      8429         3   \n",
       "...          ...        ...        ...       ...       ...       ...   \n",
       "9993        22.0       2016   0.007122         1       264         0   \n",
       "9995        12.0       1981   0.300323        52     10311         6   \n",
       "9996         0.0       1977   0.072158         2       629         1   \n",
       "9997         5.0       1958   0.460556        20      4386        14   \n",
       "9999         9.0       1975   0.127376        43      8429         3   \n",
       "\n",
       "      Helthcare_2  Shops_1  \n",
       "0               0        0  \n",
       "3               0        1  \n",
       "4               0        6  \n",
       "8               0        1  \n",
       "11              3        9  \n",
       "...           ...      ...  \n",
       "9993            0        1  \n",
       "9995            1        9  \n",
       "9996            0        0  \n",
       "9997            1        5  \n",
       "9999            3        9  \n",
       "\n",
       "[4798 rows x 15 columns]"
      ]
     },
     "execution_count": 45,
     "metadata": {},
     "output_type": "execute_result"
    }
   ],
   "source": [
    "hs1_na_X = src.loc[src[\"Healthcare_1\"].isna() == True].copy()\n",
    "hs1_na_X.drop([\"Healthcare_1\", \"Price\"], axis = 1, inplace = True)\n",
    "hs1_na_X"
   ]
  },
  {
   "cell_type": "code",
   "execution_count": 46,
   "id": "a0eab7b9",
   "metadata": {},
   "outputs": [],
   "source": [
    "hs1_na_X_scaled = scaler.fit_transform(hs1_na_X)\n",
    "hs1_na_X_scaled = pd.DataFrame(hs1_na_X_scaled, columns = hs1_na_X.columns)"
   ]
  },
  {
   "cell_type": "code",
   "execution_count": 47,
   "id": "05292503",
   "metadata": {},
   "outputs": [
    {
     "data": {
      "text/plain": [
       "array([ 515.324     ,  916.49062522, 1689.2251034 , ..., 1148.82544969,\n",
       "       1310.24216667,  929.74370445])"
      ]
     },
     "execution_count": 47,
     "metadata": {},
     "output_type": "execute_result"
    }
   ],
   "source": [
    "na_prediction = model.predict(hs1_na_X_scaled)\n",
    "na_prediction"
   ]
  },
  {
   "cell_type": "code",
   "execution_count": 48,
   "id": "834e6eaa",
   "metadata": {},
   "outputs": [],
   "source": [
    "data = src.copy()\n",
    "hs1_indexes = np.array(hs1_na_X.index)\n",
    "data.loc[hs1_indexes, \"Healthcare_1\"] = na_prediction"
   ]
  },
  {
   "cell_type": "markdown",
   "id": "5e9cedfd",
   "metadata": {},
   "source": [
    "Проверим заполнение:"
   ]
  },
  {
   "cell_type": "code",
   "execution_count": 49,
   "id": "9222f72e",
   "metadata": {},
   "outputs": [
    {
     "data": {
      "text/plain": [
       "0       False\n",
       "1       False\n",
       "2       False\n",
       "3       False\n",
       "4       False\n",
       "        ...  \n",
       "9995    False\n",
       "9996    False\n",
       "9997    False\n",
       "9998    False\n",
       "9999    False\n",
       "Name: Healthcare_1, Length: 10000, dtype: bool"
      ]
     },
     "execution_count": 49,
     "metadata": {},
     "output_type": "execute_result"
    }
   ],
   "source": [
    "data.loc[:, \"Healthcare_1\"].isna()"
   ]
  },
  {
   "cell_type": "markdown",
   "id": "2f6904a2",
   "metadata": {},
   "source": [
    "Функция визуализации качества работы модели:"
   ]
  },
  {
   "cell_type": "code",
   "execution_count": 50,
   "id": "d7b0b15e",
   "metadata": {},
   "outputs": [],
   "source": [
    "def evaluate_preds(train_true_values, train_pred_values, test_true_values, test_pred_values):\n",
    "    print(\"Train R2:\\t\" + str(round(r2_score(train_true_values, train_pred_values), 3)))\n",
    "    print(\"Test R2:\\t\" + str(round(r2_score(test_true_values, test_pred_values), 3)))\n",
    "    \n",
    "    plt.figure(figsize=(18,10))\n",
    "    \n",
    "    plt.subplot(121)\n",
    "    sns.scatterplot(x=train_pred_values, y=train_true_values)\n",
    "    plt.xlabel('Predicted values')\n",
    "    plt.ylabel('True values')\n",
    "    plt.title('Train sample prediction')\n",
    "    \n",
    "    plt.subplot(122)\n",
    "    sns.scatterplot(x=test_pred_values, y=test_true_values)\n",
    "    plt.xlabel('Predicted values')\n",
    "    plt.ylabel('True values')\n",
    "    plt.title('Test sample prediction')\n",
    "\n",
    "    plt.show()"
   ]
  },
  {
   "cell_type": "markdown",
   "id": "9569f0e9",
   "metadata": {},
   "source": [
    "#### Кластеризация с помощью метода Kmeans"
   ]
  },
  {
   "cell_type": "markdown",
   "id": "5d046215",
   "metadata": {},
   "source": [
    "Строим график каменистой осыпи, который позволит выявить оптимальное количество кластеров на основе атрибута KMeans.inertia_"
   ]
  },
  {
   "cell_type": "code",
   "execution_count": 51,
   "id": "770cb759",
   "metadata": {},
   "outputs": [
    {
     "data": {
      "image/png": "[encoded data removed]",
      "text/plain": [
       "<Figure size 432x288 with 1 Axes>"
      ]
     },
     "metadata": {},
     "output_type": "display_data"
    }
   ],
   "source": [
    "from sklearn.cluster import KMeans\n",
    "k_list = [x for x in range(1, 11)]\n",
    "inertias = []\n",
    "for k in k_list:\n",
    "    kmeans_model = KMeans(n_clusters = k, random_state = 42)\n",
    "    kmeans_model.fit(data)\n",
    "    inertias.append(kmeans_model.inertia_)\n",
    "\n",
    "plt.plot(k_list, inertias)\n",
    "plt.show()"
   ]
  },
  {
   "cell_type": "markdown",
   "id": "f232e6c4",
   "metadata": {},
   "source": [
    "Видно, что излом происходит на 2, 3, 4 или 5 кластерах. Попробуем поделить на два кластера. "
   ]
  },
  {
   "cell_type": "code",
   "execution_count": 52,
   "id": "865e316d",
   "metadata": {},
   "outputs": [],
   "source": [
    "k = 2"
   ]
  },
  {
   "cell_type": "markdown",
   "id": "655dfacf",
   "metadata": {},
   "source": [
    "Функция для визуализации данных:"
   ]
  },
  {
   "cell_type": "code",
   "execution_count": 53,
   "id": "3f48e331",
   "metadata": {},
   "outputs": [],
   "source": [
    "from sklearn.manifold import TSNE\n",
    "\n",
    "import warnings\n",
    "warnings.filterwarnings('ignore')\n",
    "\n",
    "def data_clustering(train_predictors, k_means_labels):\n",
    "    tsne = TSNE(n_components = 2, learning_rate = 250, random_state = 42)\n",
    "    X_train_tsne = tsne.fit_transform(train_predictors)\n",
    "    \n",
    "    x = X_train_tsne[:, 0]\n",
    "    y = X_train_tsne[:, 1]\n",
    "    \n",
    "    plt.scatter(x, y, c = k_means_labels)\n",
    "    plt.show()"
   ]
  },
  {
   "cell_type": "markdown",
   "id": "d4de4ea8",
   "metadata": {},
   "source": [
    "### Тренировка модели на основе полученных данных\n",
    "Теперь когда мы почистили датасет, подготовили его, можно приступить к обучению модели на нем."
   ]
  },
  {
   "cell_type": "code",
   "execution_count": 54,
   "id": "a93f37ba",
   "metadata": {},
   "outputs": [],
   "source": [
    "X_train, X_test, y_train, y_test = train_test_split(data.drop(\"Price\", axis = 1), data[\"Price\"], test_size = 0.3, random_state = 42)"
   ]
  },
  {
   "cell_type": "code",
   "execution_count": 55,
   "id": "8aa1beeb",
   "metadata": {},
   "outputs": [],
   "source": [
    "# Попытка стандартизации. Она сильно ухудшает результат.\n",
    "# X_train_scaled = scaler.fit_transform(X_train)\n",
    "# X_train_scaled = pd.DataFrame(X_train_scaled, columns = X_train.columns)\n",
    "# X_test_scaled = scaler.fit_transform(X_test)\n",
    "# X_test_scaled = pd.DataFrame(X_test_scaled, columns = X_test.columns)\n",
    "# X_train_scaled"
   ]
  },
  {
   "cell_type": "code",
   "execution_count": 56,
   "id": "ea8f6295",
   "metadata": {},
   "outputs": [],
   "source": [
    "price_regression = RandomForestRegressor(n_estimators = 1000, max_depth = 15, random_state = 42, n_jobs=-1)\n",
    "price_regression.fit(X_train, y_train)\n",
    "train_price_prediction = price_regression.predict(X_train)\n",
    "price_prediction = price_regression.predict(X_test)"
   ]
  },
  {
   "cell_type": "code",
   "execution_count": 57,
   "id": "ac83ee1f",
   "metadata": {
    "scrolled": true
   },
   "outputs": [
    {
     "data": {
      "text/plain": [
       "0.7260822700464116"
      ]
     },
     "execution_count": 57,
     "metadata": {},
     "output_type": "execute_result"
    }
   ],
   "source": [
    "r2_score(y_test, price_prediction)"
   ]
  },
  {
   "cell_type": "code",
   "execution_count": 58,
   "id": "48bcbffa",
   "metadata": {},
   "outputs": [
    {
     "data": {
      "text/plain": [
       "KMeans(n_clusters=2, random_state=42)"
      ]
     },
     "execution_count": 58,
     "metadata": {},
     "output_type": "execute_result"
    }
   ],
   "source": [
    "kmeans_model = KMeans(n_clusters = k, random_state = 42)\n",
    "kmeans_model.fit(X_train)"
   ]
  },
  {
   "cell_type": "code",
   "execution_count": 59,
   "id": "a5fec871",
   "metadata": {},
   "outputs": [
    {
     "data": {
      "image/png": "[encoded data removed]",
      "text/plain": [
       "<Figure size 432x288 with 1 Axes>"
      ]
     },
     "metadata": {},
     "output_type": "display_data"
    }
   ],
   "source": [
    "data_clustering(X_train, kmeans_model.labels_)"
   ]
  },
  {
   "cell_type": "markdown",
   "id": "c0a37446",
   "metadata": {},
   "source": [
    "К сожалению, вряд ли получится выделить здесь кластеры. "
   ]
  },
  {
   "cell_type": "code",
   "execution_count": 60,
   "id": "c7d50c93",
   "metadata": {},
   "outputs": [
    {
     "name": "stdout",
     "output_type": "stream",
     "text": [
      "Train R2:\t0.942\n",
      "Test R2:\t0.726\n"
     ]
    },
    {
     "data": {
      "image/png": "[encoded data removed]",
      "text/plain": [
       "<Figure size 1296x720 with 2 Axes>"
      ]
     },
     "metadata": {},
     "output_type": "display_data"
    }
   ],
   "source": [
    "evaluate_preds(y_train, train_price_prediction, y_test, price_prediction)"
   ]
  },
  {
   "cell_type": "markdown",
   "id": "cdb58a37",
   "metadata": {},
   "source": [
    "### Предсказание неизвестных цен\n",
    "Теперь загрузим датасет с неизвестными ценами:"
   ]
  },
  {
   "cell_type": "code",
   "execution_count": 61,
   "id": "8f6526aa",
   "metadata": {},
   "outputs": [],
   "source": [
    "uri = r\"C:/Users/tyunussov/Downloads/test.csv\"\n",
    "test_data = pd.read_csv(uri)"
   ]
  },
  {
   "cell_type": "code",
   "execution_count": 62,
   "id": "c2a1d539",
   "metadata": {},
   "outputs": [
    {
     "name": "stdout",
     "output_type": "stream",
     "text": [
      "<class 'pandas.core.frame.DataFrame'>\n",
      "RangeIndex: 5000 entries, 0 to 4999\n",
      "Data columns (total 19 columns):\n",
      " #   Column         Non-Null Count  Dtype  \n",
      "---  ------         --------------  -----  \n",
      " 0   Id             5000 non-null   int64  \n",
      " 1   DistrictId     5000 non-null   int64  \n",
      " 2   Rooms          5000 non-null   float64\n",
      " 3   Square         5000 non-null   float64\n",
      " 4   LifeSquare     3959 non-null   float64\n",
      " 5   KitchenSquare  5000 non-null   float64\n",
      " 6   Floor          5000 non-null   int64  \n",
      " 7   HouseFloor     5000 non-null   float64\n",
      " 8   HouseYear      5000 non-null   int64  \n",
      " 9   Ecology_1      5000 non-null   float64\n",
      " 10  Ecology_2      5000 non-null   object \n",
      " 11  Ecology_3      5000 non-null   object \n",
      " 12  Social_1       5000 non-null   int64  \n",
      " 13  Social_2       5000 non-null   int64  \n",
      " 14  Social_3       5000 non-null   int64  \n",
      " 15  Healthcare_1   2623 non-null   float64\n",
      " 16  Helthcare_2    5000 non-null   int64  \n",
      " 17  Shops_1        5000 non-null   int64  \n",
      " 18  Shops_2        5000 non-null   object \n",
      "dtypes: float64(7), int64(9), object(3)\n",
      "memory usage: 742.3+ KB\n"
     ]
    }
   ],
   "source": [
    "test_data.info()"
   ]
  },
  {
   "cell_type": "code",
   "execution_count": 63,
   "id": "2c367901",
   "metadata": {},
   "outputs": [
    {
     "data": {
      "text/html": [
       "<div>\n",
       "<style scoped>\n",
       "    .dataframe tbody tr th:only-of-type {\n",
       "        vertical-align: middle;\n",
       "    }\n",
       "\n",
       "    .dataframe tbody tr th {\n",
       "        vertical-align: top;\n",
       "    }\n",
       "\n",
       "    .dataframe thead th {\n",
       "        text-align: right;\n",
       "    }\n",
       "</style>\n",
       "<table border=\"1\" class=\"dataframe\">\n",
       "  <thead>\n",
       "    <tr style=\"text-align: right;\">\n",
       "      <th></th>\n",
       "      <th>Id</th>\n",
       "      <th>DistrictId</th>\n",
       "      <th>Rooms</th>\n",
       "      <th>Square</th>\n",
       "      <th>LifeSquare</th>\n",
       "      <th>KitchenSquare</th>\n",
       "      <th>Floor</th>\n",
       "      <th>HouseFloor</th>\n",
       "      <th>HouseYear</th>\n",
       "      <th>Ecology_1</th>\n",
       "      <th>Ecology_2</th>\n",
       "      <th>Ecology_3</th>\n",
       "      <th>Social_1</th>\n",
       "      <th>Social_2</th>\n",
       "      <th>Social_3</th>\n",
       "      <th>Healthcare_1</th>\n",
       "      <th>Helthcare_2</th>\n",
       "      <th>Shops_1</th>\n",
       "      <th>Shops_2</th>\n",
       "    </tr>\n",
       "  </thead>\n",
       "  <tbody>\n",
       "    <tr>\n",
       "      <th>0</th>\n",
       "      <td>4567</td>\n",
       "      <td>44</td>\n",
       "      <td>1.0</td>\n",
       "      <td>36.847630</td>\n",
       "      <td>19.094182</td>\n",
       "      <td>5.0</td>\n",
       "      <td>5</td>\n",
       "      <td>9.0</td>\n",
       "      <td>1970</td>\n",
       "      <td>0.036122</td>\n",
       "      <td>B</td>\n",
       "      <td>B</td>\n",
       "      <td>24</td>\n",
       "      <td>4378</td>\n",
       "      <td>0</td>\n",
       "      <td>1036.0</td>\n",
       "      <td>1</td>\n",
       "      <td>1</td>\n",
       "      <td>B</td>\n",
       "    </tr>\n",
       "    <tr>\n",
       "      <th>1</th>\n",
       "      <td>5925</td>\n",
       "      <td>62</td>\n",
       "      <td>1.0</td>\n",
       "      <td>42.493907</td>\n",
       "      <td>42.568133</td>\n",
       "      <td>10.0</td>\n",
       "      <td>7</td>\n",
       "      <td>17.0</td>\n",
       "      <td>2017</td>\n",
       "      <td>0.072158</td>\n",
       "      <td>B</td>\n",
       "      <td>B</td>\n",
       "      <td>2</td>\n",
       "      <td>629</td>\n",
       "      <td>1</td>\n",
       "      <td>NaN</td>\n",
       "      <td>0</td>\n",
       "      <td>0</td>\n",
       "      <td>A</td>\n",
       "    </tr>\n",
       "    <tr>\n",
       "      <th>2</th>\n",
       "      <td>960</td>\n",
       "      <td>27</td>\n",
       "      <td>2.0</td>\n",
       "      <td>59.463678</td>\n",
       "      <td>NaN</td>\n",
       "      <td>9.0</td>\n",
       "      <td>19</td>\n",
       "      <td>19.0</td>\n",
       "      <td>1977</td>\n",
       "      <td>0.211401</td>\n",
       "      <td>B</td>\n",
       "      <td>B</td>\n",
       "      <td>9</td>\n",
       "      <td>1892</td>\n",
       "      <td>0</td>\n",
       "      <td>NaN</td>\n",
       "      <td>0</td>\n",
       "      <td>1</td>\n",
       "      <td>B</td>\n",
       "    </tr>\n",
       "    <tr>\n",
       "      <th>3</th>\n",
       "      <td>3848</td>\n",
       "      <td>23</td>\n",
       "      <td>3.0</td>\n",
       "      <td>49.646030</td>\n",
       "      <td>33.893825</td>\n",
       "      <td>6.0</td>\n",
       "      <td>2</td>\n",
       "      <td>2.0</td>\n",
       "      <td>1965</td>\n",
       "      <td>0.014073</td>\n",
       "      <td>B</td>\n",
       "      <td>B</td>\n",
       "      <td>2</td>\n",
       "      <td>475</td>\n",
       "      <td>0</td>\n",
       "      <td>NaN</td>\n",
       "      <td>0</td>\n",
       "      <td>0</td>\n",
       "      <td>B</td>\n",
       "    </tr>\n",
       "    <tr>\n",
       "      <th>4</th>\n",
       "      <td>746</td>\n",
       "      <td>74</td>\n",
       "      <td>1.0</td>\n",
       "      <td>53.837056</td>\n",
       "      <td>NaN</td>\n",
       "      <td>1.0</td>\n",
       "      <td>8</td>\n",
       "      <td>17.0</td>\n",
       "      <td>1977</td>\n",
       "      <td>0.309479</td>\n",
       "      <td>B</td>\n",
       "      <td>B</td>\n",
       "      <td>35</td>\n",
       "      <td>7715</td>\n",
       "      <td>4</td>\n",
       "      <td>990.0</td>\n",
       "      <td>0</td>\n",
       "      <td>6</td>\n",
       "      <td>B</td>\n",
       "    </tr>\n",
       "  </tbody>\n",
       "</table>\n",
       "</div>"
      ],
      "text/plain": [
       "     Id  DistrictId  Rooms     Square  LifeSquare  KitchenSquare  Floor  \\\n",
       "0  4567          44    1.0  36.847630   19.094182            5.0      5   \n",
       "1  5925          62    1.0  42.493907   42.568133           10.0      7   \n",
       "2   960          27    2.0  59.463678         NaN            9.0     19   \n",
       "3  3848          23    3.0  49.646030   33.893825            6.0      2   \n",
       "4   746          74    1.0  53.837056         NaN            1.0      8   \n",
       "\n",
       "   HouseFloor  HouseYear  Ecology_1 Ecology_2 Ecology_3  Social_1  Social_2  \\\n",
       "0         9.0       1970   0.036122         B         B        24      4378   \n",
       "1        17.0       2017   0.072158         B         B         2       629   \n",
       "2        19.0       1977   0.211401         B         B         9      1892   \n",
       "3         2.0       1965   0.014073         B         B         2       475   \n",
       "4        17.0       1977   0.309479         B         B        35      7715   \n",
       "\n",
       "   Social_3  Healthcare_1  Helthcare_2  Shops_1 Shops_2  \n",
       "0         0        1036.0            1        1       B  \n",
       "1         1           NaN            0        0       A  \n",
       "2         0           NaN            0        1       B  \n",
       "3         0           NaN            0        0       B  \n",
       "4         4         990.0            0        6       B  "
      ]
     },
     "execution_count": 63,
     "metadata": {},
     "output_type": "execute_result"
    }
   ],
   "source": [
    "test_data.head()"
   ]
  },
  {
   "cell_type": "markdown",
   "id": "2467d709",
   "metadata": {},
   "source": [
    "Видим, что здесь та же ситуация с признаками LifeSquare и Healthcare_1. Выполним те же преобразования для test датасета, которые мы выполняли на train для создания модели: "
   ]
  },
  {
   "cell_type": "code",
   "execution_count": 64,
   "id": "64d0d4b8",
   "metadata": {},
   "outputs": [],
   "source": [
    "def feature_preprocessing(source_df):\n",
    "    source_df.drop([\"Ecology_2\", \"Ecology_3\", \"Shops_2\"], axis = 1, inplace = True)\n",
    "  \n",
    "    source_df.loc[source_df[\"Rooms\"] > 6, \"Rooms\"] = source_df[\"Rooms\"].median()\n",
    "\n",
    "    kitchen_condition = (source_df[\"KitchenSquare\"] > source_df[\"KitchenSquare\"].quantile(0.98)) | (source_df[\"KitchenSquare\"] < 1)\n",
    "    source_df.loc[kitchen_condition, \"KitchenSquare\"] = source_df[\"KitchenSquare\"].median()\n",
    "\n",
    "    square_q3 = source_df[\"Square\"].quantile(0.75)\n",
    "    square_q1 = source_df[\"Square\"].quantile(0.25)\n",
    "    square_interq = square_q3 - square_q1\n",
    "    square_condition = (source_df[\"Square\"] < square_q1 - square_interq * 1.5) | (source_df[\"Square\"] > square_q3 + square_interq * 1.5)\n",
    "    source_df.loc[square_condition, \"Square\"] = source_df[\"Square\"].median()\n",
    "\n",
    "    wrong_square_indexes = source_df.loc[source_df[\"Square\"] <= source_df[\"LifeSquare\"]].index\n",
    "    source_df.loc[wrong_square_indexes, \"LifeSquare\"] = source_df.loc[wrong_square_indexes, \"Square\"] - source_df.loc[wrong_square_indexes, \"KitchenSquare\"]\n",
    "\n",
    "    ls_quantile99 = source_df[\"LifeSquare\"].quantile(0.99)\n",
    "    ls_quantile_condition = (source_df[\"LifeSquare\"] > ls_quantile99) | (source_df[\"LifeSquare\"] < 1)\n",
    "    source_df.loc[ls_quantile_condition, \"LifeSquare\"] = source_df[\"LifeSquare\"].median()\n",
    "    source_df.loc[source_df[\"LifeSquare\"].isna() == True, \"LifeSquare\"] = source_df[\"LifeSquare\"].median()\n",
    "\n",
    "    wrong_floor_indexes = source_df.loc[source_df[\"Floor\"] > source_df[\"HouseFloor\"]].index\n",
    "    source_df.loc[wrong_floor_indexes, \"Floor\"] = source_df.loc[wrong_floor_indexes, \"HouseFloor\"]\n",
    "\n",
    "    source_df[\"HouseYear\"] = source_df[\"HouseYear\"].astype(np.int32)\n",
    "    source_df.loc[source_df[\"HouseYear\"] > 2022, \"HouseYear\"] = source_df[\"HouseYear\"].median()\n",
    "\n",
    "    hs1_X = source_df.loc[source_df[\"Healthcare_1\"].isna() == False].copy()\n",
    "    hs1_y = source_df.loc[source_df[\"Healthcare_1\"].isna() == False, \"Healthcare_1\"].copy()\n",
    "    hs1_X.drop(\"Healthcare_1\", axis = 1, inplace = True)\n",
    "    hs1_X_train, hs1_X_test, hs1_y_train, hs1_y_test = train_test_split(hs1_X, hs1_y, test_size=0.3, random_state = 42)\n",
    "    \n",
    "    hs1_X_train_scaled = scaler.fit_transform(hs1_X_train)\n",
    "    hs1_X_train_scaled = pd.DataFrame(hs1_X_train_scaled, columns = hs1_X_train.columns)\n",
    "    hs1_X_test_scaled = scaler.fit_transform(hs1_X_test)\n",
    "    hs1_X_test_scaled = pd.DataFrame(hs1_X_test_scaled, columns = hs1_X_test.columns)\n",
    "    \n",
    "    model = RandomForestRegressor(n_estimators = 1000, max_depth = 12, random_state = 42, n_jobs=-1)\n",
    "    model.fit(hs1_X_train_scaled, hs1_y_train)\n",
    "    test_prediction = model.predict(hs1_X_test_scaled)\n",
    "    print(f\"Метрика R2 для предсказания признака Healthcare_1: {r2_score(hs1_y_test, test_prediction)}\")\n",
    "    \n",
    "    hs1_na_X = source_df.loc[source_df[\"Healthcare_1\"].isna() == True].copy()\n",
    "    hs1_na_X.drop(\"Healthcare_1\", axis = 1, inplace = True)\n",
    "    hs1_na_X_scaled = scaler.fit_transform(hs1_na_X)\n",
    "    hs1_na_X_scaled = pd.DataFrame(hs1_na_X_scaled, columns = hs1_na_X.columns)\n",
    "    na_prediction = model.predict(hs1_na_X_scaled)\n",
    "    \n",
    "    result_df = source_df.copy()\n",
    "    hs1_indexes = np.array(hs1_na_X.index)\n",
    "    result_df.loc[hs1_indexes, \"Healthcare_1\"] = na_prediction\n",
    "    return result_df"
   ]
  },
  {
   "cell_type": "code",
   "execution_count": 65,
   "id": "ab9e2b6d",
   "metadata": {},
   "outputs": [
    {
     "name": "stdout",
     "output_type": "stream",
     "text": [
      "Метрика R2 для предсказания признака Healthcare_1: 0.7523716350040852\n"
     ]
    }
   ],
   "source": [
    "test_dataset_processed = feature_preprocessing(test_data)"
   ]
  },
  {
   "cell_type": "code",
   "execution_count": 66,
   "id": "66d0cf28",
   "metadata": {},
   "outputs": [
    {
     "name": "stdout",
     "output_type": "stream",
     "text": [
      "<class 'pandas.core.frame.DataFrame'>\n",
      "RangeIndex: 5000 entries, 0 to 4999\n",
      "Data columns (total 16 columns):\n",
      " #   Column         Non-Null Count  Dtype  \n",
      "---  ------         --------------  -----  \n",
      " 0   Id             5000 non-null   int64  \n",
      " 1   DistrictId     5000 non-null   int64  \n",
      " 2   Rooms          5000 non-null   float64\n",
      " 3   Square         5000 non-null   float64\n",
      " 4   LifeSquare     5000 non-null   float64\n",
      " 5   KitchenSquare  5000 non-null   float64\n",
      " 6   Floor          5000 non-null   int64  \n",
      " 7   HouseFloor     5000 non-null   float64\n",
      " 8   HouseYear      5000 non-null   int32  \n",
      " 9   Ecology_1      5000 non-null   float64\n",
      " 10  Social_1       5000 non-null   int64  \n",
      " 11  Social_2       5000 non-null   int64  \n",
      " 12  Social_3       5000 non-null   int64  \n",
      " 13  Healthcare_1   5000 non-null   float64\n",
      " 14  Helthcare_2    5000 non-null   int64  \n",
      " 15  Shops_1        5000 non-null   int64  \n",
      "dtypes: float64(7), int32(1), int64(8)\n",
      "memory usage: 605.6 KB\n"
     ]
    }
   ],
   "source": [
    "test_dataset_processed.info()"
   ]
  },
  {
   "cell_type": "code",
   "execution_count": 67,
   "id": "7e19bf8b",
   "metadata": {},
   "outputs": [
    {
     "data": {
      "text/html": [
       "<div>\n",
       "<style scoped>\n",
       "    .dataframe tbody tr th:only-of-type {\n",
       "        vertical-align: middle;\n",
       "    }\n",
       "\n",
       "    .dataframe tbody tr th {\n",
       "        vertical-align: top;\n",
       "    }\n",
       "\n",
       "    .dataframe thead th {\n",
       "        text-align: right;\n",
       "    }\n",
       "</style>\n",
       "<table border=\"1\" class=\"dataframe\">\n",
       "  <thead>\n",
       "    <tr style=\"text-align: right;\">\n",
       "      <th></th>\n",
       "      <th>Id</th>\n",
       "      <th>DistrictId</th>\n",
       "      <th>Rooms</th>\n",
       "      <th>Square</th>\n",
       "      <th>LifeSquare</th>\n",
       "      <th>KitchenSquare</th>\n",
       "      <th>Floor</th>\n",
       "      <th>HouseFloor</th>\n",
       "      <th>HouseYear</th>\n",
       "      <th>Ecology_1</th>\n",
       "      <th>Social_1</th>\n",
       "      <th>Social_2</th>\n",
       "      <th>Social_3</th>\n",
       "      <th>Healthcare_1</th>\n",
       "      <th>Helthcare_2</th>\n",
       "      <th>Shops_1</th>\n",
       "    </tr>\n",
       "  </thead>\n",
       "  <tbody>\n",
       "    <tr>\n",
       "      <th>count</th>\n",
       "      <td>5000.000000</td>\n",
       "      <td>5000.000000</td>\n",
       "      <td>5000.000000</td>\n",
       "      <td>5000.000000</td>\n",
       "      <td>5000.000000</td>\n",
       "      <td>5000.000000</td>\n",
       "      <td>5000.000000</td>\n",
       "      <td>5000.000000</td>\n",
       "      <td>5000.000000</td>\n",
       "      <td>5000.000000</td>\n",
       "      <td>5000.000000</td>\n",
       "      <td>5000.000000</td>\n",
       "      <td>5000.000000</td>\n",
       "      <td>5000.000000</td>\n",
       "      <td>5000.00000</td>\n",
       "      <td>5000.000000</td>\n",
       "    </tr>\n",
       "    <tr>\n",
       "      <th>mean</th>\n",
       "      <td>8412.595400</td>\n",
       "      <td>51.279200</td>\n",
       "      <td>1.907000</td>\n",
       "      <td>55.096732</td>\n",
       "      <td>34.160062</td>\n",
       "      <td>5.978400</td>\n",
       "      <td>7.838000</td>\n",
       "      <td>12.601000</td>\n",
       "      <td>1984.392600</td>\n",
       "      <td>0.119874</td>\n",
       "      <td>24.933800</td>\n",
       "      <td>5406.900000</td>\n",
       "      <td>8.262600</td>\n",
       "      <td>1171.553265</td>\n",
       "      <td>1.31940</td>\n",
       "      <td>4.242800</td>\n",
       "    </tr>\n",
       "    <tr>\n",
       "      <th>std</th>\n",
       "      <td>4832.674037</td>\n",
       "      <td>44.179466</td>\n",
       "      <td>0.810976</td>\n",
       "      <td>16.126239</td>\n",
       "      <td>12.647028</td>\n",
       "      <td>3.319298</td>\n",
       "      <td>5.454989</td>\n",
       "      <td>6.789213</td>\n",
       "      <td>18.573149</td>\n",
       "      <td>0.120070</td>\n",
       "      <td>17.532202</td>\n",
       "      <td>4026.614773</td>\n",
       "      <td>23.863762</td>\n",
       "      <td>834.318793</td>\n",
       "      <td>1.47994</td>\n",
       "      <td>4.777365</td>\n",
       "    </tr>\n",
       "    <tr>\n",
       "      <th>min</th>\n",
       "      <td>1.000000</td>\n",
       "      <td>0.000000</td>\n",
       "      <td>0.000000</td>\n",
       "      <td>5.647458</td>\n",
       "      <td>1.181139</td>\n",
       "      <td>1.000000</td>\n",
       "      <td>0.000000</td>\n",
       "      <td>0.000000</td>\n",
       "      <td>1908.000000</td>\n",
       "      <td>0.000000</td>\n",
       "      <td>0.000000</td>\n",
       "      <td>168.000000</td>\n",
       "      <td>0.000000</td>\n",
       "      <td>0.000000</td>\n",
       "      <td>0.00000</td>\n",
       "      <td>0.000000</td>\n",
       "    </tr>\n",
       "    <tr>\n",
       "      <th>25%</th>\n",
       "      <td>4221.750000</td>\n",
       "      <td>21.000000</td>\n",
       "      <td>1.000000</td>\n",
       "      <td>41.928216</td>\n",
       "      <td>25.848859</td>\n",
       "      <td>5.000000</td>\n",
       "      <td>4.000000</td>\n",
       "      <td>9.000000</td>\n",
       "      <td>1973.000000</td>\n",
       "      <td>0.019509</td>\n",
       "      <td>6.000000</td>\n",
       "      <td>1564.000000</td>\n",
       "      <td>0.000000</td>\n",
       "      <td>620.000000</td>\n",
       "      <td>0.00000</td>\n",
       "      <td>1.000000</td>\n",
       "    </tr>\n",
       "    <tr>\n",
       "      <th>50%</th>\n",
       "      <td>8320.500000</td>\n",
       "      <td>37.000000</td>\n",
       "      <td>2.000000</td>\n",
       "      <td>52.921340</td>\n",
       "      <td>32.779475</td>\n",
       "      <td>6.000000</td>\n",
       "      <td>7.000000</td>\n",
       "      <td>12.000000</td>\n",
       "      <td>1977.000000</td>\n",
       "      <td>0.072158</td>\n",
       "      <td>25.000000</td>\n",
       "      <td>5285.000000</td>\n",
       "      <td>2.000000</td>\n",
       "      <td>990.000000</td>\n",
       "      <td>1.00000</td>\n",
       "      <td>3.000000</td>\n",
       "    </tr>\n",
       "    <tr>\n",
       "      <th>75%</th>\n",
       "      <td>12598.250000</td>\n",
       "      <td>77.000000</td>\n",
       "      <td>2.000000</td>\n",
       "      <td>65.394081</td>\n",
       "      <td>40.222689</td>\n",
       "      <td>8.000000</td>\n",
       "      <td>11.000000</td>\n",
       "      <td>17.000000</td>\n",
       "      <td>2000.000000</td>\n",
       "      <td>0.195781</td>\n",
       "      <td>36.000000</td>\n",
       "      <td>7287.000000</td>\n",
       "      <td>5.000000</td>\n",
       "      <td>1565.677950</td>\n",
       "      <td>2.00000</td>\n",
       "      <td>6.000000</td>\n",
       "    </tr>\n",
       "    <tr>\n",
       "      <th>max</th>\n",
       "      <td>16795.000000</td>\n",
       "      <td>212.000000</td>\n",
       "      <td>6.000000</td>\n",
       "      <td>102.781220</td>\n",
       "      <td>82.012534</td>\n",
       "      <td>13.000000</td>\n",
       "      <td>46.000000</td>\n",
       "      <td>99.000000</td>\n",
       "      <td>2020.000000</td>\n",
       "      <td>0.521867</td>\n",
       "      <td>74.000000</td>\n",
       "      <td>19083.000000</td>\n",
       "      <td>141.000000</td>\n",
       "      <td>4849.000000</td>\n",
       "      <td>6.00000</td>\n",
       "      <td>23.000000</td>\n",
       "    </tr>\n",
       "  </tbody>\n",
       "</table>\n",
       "</div>"
      ],
      "text/plain": [
       "                 Id   DistrictId        Rooms       Square   LifeSquare  \\\n",
       "count   5000.000000  5000.000000  5000.000000  5000.000000  5000.000000   \n",
       "mean    8412.595400    51.279200     1.907000    55.096732    34.160062   \n",
       "std     4832.674037    44.179466     0.810976    16.126239    12.647028   \n",
       "min        1.000000     0.000000     0.000000     5.647458     1.181139   \n",
       "25%     4221.750000    21.000000     1.000000    41.928216    25.848859   \n",
       "50%     8320.500000    37.000000     2.000000    52.921340    32.779475   \n",
       "75%    12598.250000    77.000000     2.000000    65.394081    40.222689   \n",
       "max    16795.000000   212.000000     6.000000   102.781220    82.012534   \n",
       "\n",
       "       KitchenSquare        Floor   HouseFloor    HouseYear    Ecology_1  \\\n",
       "count    5000.000000  5000.000000  5000.000000  5000.000000  5000.000000   \n",
       "mean        5.978400     7.838000    12.601000  1984.392600     0.119874   \n",
       "std         3.319298     5.454989     6.789213    18.573149     0.120070   \n",
       "min         1.000000     0.000000     0.000000  1908.000000     0.000000   \n",
       "25%         5.000000     4.000000     9.000000  1973.000000     0.019509   \n",
       "50%         6.000000     7.000000    12.000000  1977.000000     0.072158   \n",
       "75%         8.000000    11.000000    17.000000  2000.000000     0.195781   \n",
       "max        13.000000    46.000000    99.000000  2020.000000     0.521867   \n",
       "\n",
       "          Social_1      Social_2     Social_3  Healthcare_1  Helthcare_2  \\\n",
       "count  5000.000000   5000.000000  5000.000000   5000.000000   5000.00000   \n",
       "mean     24.933800   5406.900000     8.262600   1171.553265      1.31940   \n",
       "std      17.532202   4026.614773    23.863762    834.318793      1.47994   \n",
       "min       0.000000    168.000000     0.000000      0.000000      0.00000   \n",
       "25%       6.000000   1564.000000     0.000000    620.000000      0.00000   \n",
       "50%      25.000000   5285.000000     2.000000    990.000000      1.00000   \n",
       "75%      36.000000   7287.000000     5.000000   1565.677950      2.00000   \n",
       "max      74.000000  19083.000000   141.000000   4849.000000      6.00000   \n",
       "\n",
       "           Shops_1  \n",
       "count  5000.000000  \n",
       "mean      4.242800  \n",
       "std       4.777365  \n",
       "min       0.000000  \n",
       "25%       1.000000  \n",
       "50%       3.000000  \n",
       "75%       6.000000  \n",
       "max      23.000000  "
      ]
     },
     "execution_count": 67,
     "metadata": {},
     "output_type": "execute_result"
    }
   ],
   "source": [
    "test_dataset_processed.describe()"
   ]
  },
  {
   "cell_type": "code",
   "execution_count": 68,
   "id": "b8b9443d",
   "metadata": {},
   "outputs": [],
   "source": [
    "price_prediction = price_regression.predict(test_dataset_processed)"
   ]
  },
  {
   "cell_type": "code",
   "execution_count": 69,
   "id": "b07148fb",
   "metadata": {},
   "outputs": [],
   "source": [
    "price_prediction_result = pd.concat([test_data[\"Id\"], pd.Series(price_prediction, name = \"Price\")], axis = 1)"
   ]
  },
  {
   "cell_type": "code",
   "execution_count": 70,
   "id": "487379fc",
   "metadata": {},
   "outputs": [],
   "source": [
    "price_prediction_result.to_csv(r\"C:/Users/tyunussov/Downloads/TYunussov_predictions.csv\", index = None)"
   ]
  }
 ],
 "metadata": {
  "kernelspec": {
   "display_name": "Python 3 (ipykernel)",
   "language": "python",
   "name": "python3"
  },
  "language_info": {
   "codemirror_mode": {
    "name": "ipython",
    "version": 3
   },
   "file_extension": ".py",
   "mimetype": "text/x-python",
   "name": "python",
   "nbconvert_exporter": "python",
   "pygments_lexer": "ipython3",
   "version": "3.10.0"
  }
 },
 "nbformat": 4,
 "nbformat_minor": 5
}
