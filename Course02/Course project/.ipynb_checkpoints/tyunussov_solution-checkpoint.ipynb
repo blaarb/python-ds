{
 "cells": [
  {
   "cell_type": "markdown",
   "id": "34cab1a2",
   "metadata": {},
   "source": [
    "**Задача**\n",
    "\n",
    "На основании имеющихся данных о клиентах банка требуется построить модель для прогнозирования невыполнения долговых обязательств по текущему кредиту, используя обучающий датасет. Выполнить прогноз для примеров из тестового датасета.\n",
    "\n",
    "**Наименование файлов с данными**\n",
    "\n",
    "course_project_train.csv - обучающий датасет<br>\n",
    "course_project_test.csv - тестовый датасет\n",
    "\n",
    "**Целевая переменная**\n",
    "\n",
    "Credit Default - факт невыполнения кредитных обязательств\n",
    "\n",
    "**Метрика качества**\n",
    "\n",
    "F1-score (sklearn.metrics.f1_score)\n",
    "\n",
    "**Требования к решению**\n",
    "\n",
    "*Целевая метрика*\n",
    "* F1($\\beta$ = 1) > 0.5 при Precision > 0.5 и Recall > 0.5\n",
    "* Метрика оценивается по качеству прогноза для главного класса (1 - просрочка по кредиту)\n",
    "\n",
    "*Решение должно содержать*\n",
    "1. Тетрадка Jupyter Notebook с кодом Вашего решения, названная по образцу {ФИО}\\_solution.ipynb, пример SShirkin\\_solution.ipynb\n",
    "2. Файл CSV с прогнозами целевой переменной для тестового датасета, названный по образцу {ФИО}\\_predictions.csv, пример SShirkin\\_predictions.csv\n",
    "\n",
    "*Рекомендации для файла с кодом (ipynb)*\n",
    "1. Файл должен содержать заголовки и комментарии (markdown)\n",
    "2. Повторяющиеся операции лучше оформлять в виде функций\n",
    "3. Не делать вывод большого количества строк таблиц (5-10 достаточно)\n",
    "4. По возможности добавлять графики, описывающие данные (около 3-5)\n",
    "5. Добавлять только лучшую модель, то есть не включать в код все варианты решения проекта\n",
    "6. Скрипт проекта должен отрабатывать от начала и до конца (от загрузки данных до выгрузки предсказаний)\n",
    "7. Весь проект должен быть в одном скрипте (файл ipynb).\n",
    "8. Допускается применение библиотек Python и моделей машинного обучения,\n",
    "которые были в данном курсе.\n",
    "\n",
    "**Сроки сдачи**\n",
    "\n",
    "Cдать проект нужно в течение 5 дней после окончания последнего вебинара.\n",
    "Оценки работ, сданных до дедлайна, будут представлены в виде рейтинга, ранжированного по заданной метрике качества.\n",
    "Проекты, сданные после дедлайна или сданные повторно, не попадают в рейтинг, но можно будет узнать результат."
   ]
  },
  {
   "cell_type": "code",
   "execution_count": 1,
   "id": "e72b61c6",
   "metadata": {},
   "outputs": [],
   "source": [
    "import numpy as np\n",
    "import pandas as pd\n",
    "import matplotlib.pyplot as plt\n",
    "import seaborn as sns"
   ]
  },
  {
   "cell_type": "code",
   "execution_count": 2,
   "id": "e84cd3d2",
   "metadata": {},
   "outputs": [
    {
     "name": "stdout",
     "output_type": "stream",
     "text": [
      "<class 'pandas.core.frame.DataFrame'>\n",
      "RangeIndex: 7500 entries, 0 to 7499\n",
      "Data columns (total 17 columns):\n",
      " #   Column                        Non-Null Count  Dtype  \n",
      "---  ------                        --------------  -----  \n",
      " 0   Home Ownership                7500 non-null   object \n",
      " 1   Annual Income                 5943 non-null   float64\n",
      " 2   Years in current job          7129 non-null   object \n",
      " 3   Tax Liens                     7500 non-null   float64\n",
      " 4   Number of Open Accounts       7500 non-null   float64\n",
      " 5   Years of Credit History       7500 non-null   float64\n",
      " 6   Maximum Open Credit           7500 non-null   float64\n",
      " 7   Number of Credit Problems     7500 non-null   float64\n",
      " 8   Months since last delinquent  3419 non-null   float64\n",
      " 9   Bankruptcies                  7486 non-null   float64\n",
      " 10  Purpose                       7500 non-null   object \n",
      " 11  Term                          7500 non-null   object \n",
      " 12  Current Loan Amount           7500 non-null   float64\n",
      " 13  Current Credit Balance        7500 non-null   float64\n",
      " 14  Monthly Debt                  7500 non-null   float64\n",
      " 15  Credit Score                  5943 non-null   float64\n",
      " 16  Credit Default                7500 non-null   int64  \n",
      "dtypes: float64(12), int64(1), object(4)\n",
      "memory usage: 996.2+ KB\n"
     ]
    }
   ],
   "source": [
    "train_df = pd.read_csv(r'course_project_train.csv')\n",
    "train_df.info()"
   ]
  },
  {
   "cell_type": "markdown",
   "id": "c05cc525",
   "metadata": {},
   "source": [
    "**Описание датасета**\n",
    "\n",
    "* **Home Ownership** - домовладение\n",
    "* **Annual Income** - годовой доход\n",
    "* **Years in current job** - количество лет на текущем месте работы\n",
    "* **Tax Liens** - налоговые обременения\n",
    "* **Number of Open Accounts** - количество открытых счетов\n",
    "* **Years of Credit History** - количество лет кредитной истории\n",
    "* **Maximum Open Credit** - наибольший открытый кредит\n",
    "* **Number of Credit Problems** - количество проблем с кредитом\n",
    "* **Months since last delinquent** - количество месяцев с последней просрочки платежа\n",
    "* **Bankruptcies** - банкротства\n",
    "* **Purpose** - цель кредита\n",
    "* **Term** - срок кредита\n",
    "* **Current Loan Amount** - текущая сумма кредита\n",
    "* **Current Credit Balance** - текущий кредитный баланс\n",
    "* **Monthly Debt** - ежемесячный долг\n",
    "* **Credit Score** - кредитный рейтинг\n",
    "* **Credit Default** - факт невыполнения кредитных обязательств (0 - погашен вовремя, 1 - просрочка)"
   ]
  },
  {
   "cell_type": "code",
   "execution_count": 3,
   "id": "628e9092",
   "metadata": {},
   "outputs": [
    {
     "name": "stdout",
     "output_type": "stream",
     "text": [
      "<class 'pandas.core.frame.DataFrame'>\n",
      "RangeIndex: 2500 entries, 0 to 2499\n",
      "Data columns (total 16 columns):\n",
      " #   Column                        Non-Null Count  Dtype  \n",
      "---  ------                        --------------  -----  \n",
      " 0   Home Ownership                2500 non-null   object \n",
      " 1   Annual Income                 1987 non-null   float64\n",
      " 2   Years in current job          2414 non-null   object \n",
      " 3   Tax Liens                     2500 non-null   float64\n",
      " 4   Number of Open Accounts       2500 non-null   float64\n",
      " 5   Years of Credit History       2500 non-null   float64\n",
      " 6   Maximum Open Credit           2500 non-null   float64\n",
      " 7   Number of Credit Problems     2500 non-null   float64\n",
      " 8   Months since last delinquent  1142 non-null   float64\n",
      " 9   Bankruptcies                  2497 non-null   float64\n",
      " 10  Purpose                       2500 non-null   object \n",
      " 11  Term                          2500 non-null   object \n",
      " 12  Current Loan Amount           2500 non-null   float64\n",
      " 13  Current Credit Balance        2500 non-null   float64\n",
      " 14  Monthly Debt                  2500 non-null   float64\n",
      " 15  Credit Score                  1987 non-null   float64\n",
      "dtypes: float64(12), object(4)\n",
      "memory usage: 312.6+ KB\n"
     ]
    }
   ],
   "source": [
    "test_df = pd.read_csv(r'course_project_test.csv')\n",
    "test_df.info()"
   ]
  },
  {
   "cell_type": "code",
   "execution_count": 4,
   "id": "6efc0fd2",
   "metadata": {},
   "outputs": [
    {
     "name": "stdout",
     "output_type": "stream",
     "text": [
      "Annual Income\n",
      "Annual Income\n",
      "Years in current job\n",
      "Years in current job\n",
      "Months since last delinquent\n",
      "Months since last delinquent\n",
      "Bankruptcies\n",
      "Bankruptcies\n",
      "Credit Score\n",
      "Credit Score\n"
     ]
    }
   ],
   "source": [
    "for feature in test_df.columns:\n",
    "    print(feature) if train_df[feature].count() < len(train_df) else False\n",
    "    print(feature) if test_df[feature].count() < len(test_df) else False"
   ]
  },
  {
   "cell_type": "markdown",
   "id": "da2175c2",
   "metadata": {},
   "source": [
    "Видно что признаки с пропусками совпадают в обеих датасетах. Это немного упрощает их предобработку."
   ]
  },
  {
   "cell_type": "markdown",
   "id": "62ec16f6",
   "metadata": {},
   "source": [
    "### Обработка и изучение признаков тестового датасета "
   ]
  },
  {
   "cell_type": "markdown",
   "id": "e6c11827",
   "metadata": {},
   "source": [
    "Проверим признаки типа object:"
   ]
  },
  {
   "cell_type": "code",
   "execution_count": 5,
   "id": "0192c80d",
   "metadata": {},
   "outputs": [
    {
     "data": {
      "text/html": [
       "<div>\n",
       "<style scoped>\n",
       "    .dataframe tbody tr th:only-of-type {\n",
       "        vertical-align: middle;\n",
       "    }\n",
       "\n",
       "    .dataframe tbody tr th {\n",
       "        vertical-align: top;\n",
       "    }\n",
       "\n",
       "    .dataframe thead th {\n",
       "        text-align: right;\n",
       "    }\n",
       "</style>\n",
       "<table border=\"1\" class=\"dataframe\">\n",
       "  <thead>\n",
       "    <tr style=\"text-align: right;\">\n",
       "      <th></th>\n",
       "      <th>Home Ownership</th>\n",
       "      <th>Years in current job</th>\n",
       "      <th>Purpose</th>\n",
       "      <th>Term</th>\n",
       "    </tr>\n",
       "  </thead>\n",
       "  <tbody>\n",
       "    <tr>\n",
       "      <th>6492</th>\n",
       "      <td>Rent</td>\n",
       "      <td>3 years</td>\n",
       "      <td>other</td>\n",
       "      <td>Short Term</td>\n",
       "    </tr>\n",
       "    <tr>\n",
       "      <th>7113</th>\n",
       "      <td>Rent</td>\n",
       "      <td>2 years</td>\n",
       "      <td>debt consolidation</td>\n",
       "      <td>Short Term</td>\n",
       "    </tr>\n",
       "    <tr>\n",
       "      <th>1985</th>\n",
       "      <td>Own Home</td>\n",
       "      <td>10+ years</td>\n",
       "      <td>debt consolidation</td>\n",
       "      <td>Long Term</td>\n",
       "    </tr>\n",
       "  </tbody>\n",
       "</table>\n",
       "</div>"
      ],
      "text/plain": [
       "     Home Ownership Years in current job             Purpose        Term\n",
       "6492           Rent              3 years               other  Short Term\n",
       "7113           Rent              2 years  debt consolidation  Short Term\n",
       "1985       Own Home            10+ years  debt consolidation   Long Term"
      ]
     },
     "execution_count": 5,
     "metadata": {},
     "output_type": "execute_result"
    }
   ],
   "source": [
    "train_df[[\"Home Ownership\", \"Years in current job\", \"Purpose\", \"Term\"]].sample(3)"
   ]
  },
  {
   "cell_type": "markdown",
   "id": "687de13b",
   "metadata": {},
   "source": [
    "Видно, что **Years in current job** можно конвертировать в численный тип без потери смысла."
   ]
  },
  {
   "cell_type": "code",
   "execution_count": 6,
   "id": "540ebd61",
   "metadata": {},
   "outputs": [
    {
     "data": {
      "text/plain": [
       "10+ years    2332\n",
       "2 years       705\n",
       "3 years       620\n",
       "< 1 year      563\n",
       "5 years       516\n",
       "1 year        504\n",
       "4 years       469\n",
       "6 years       426\n",
       "7 years       396\n",
       "0 years       371\n",
       "8 years       339\n",
       "9 years       259\n",
       "Name: Years in current job, dtype: int64"
      ]
     },
     "execution_count": 6,
     "metadata": {},
     "output_type": "execute_result"
    }
   ],
   "source": [
    "train_df[\"Years in current job\"].fillna(\"0 years\", inplace=True)\n",
    "train_df[\"Years in current job\"].value_counts()"
   ]
  },
  {
   "cell_type": "code",
   "execution_count": 7,
   "id": "97dc2533",
   "metadata": {},
   "outputs": [
    {
     "data": {
      "text/plain": [
       "0        0\n",
       "1       10\n",
       "2        8\n",
       "3        6\n",
       "4        8\n",
       "        ..\n",
       "7495     1\n",
       "7496     1\n",
       "7497     6\n",
       "7498     0\n",
       "7499     4\n",
       "Name: Years in current job, Length: 7500, dtype: int64"
      ]
     },
     "execution_count": 7,
     "metadata": {},
     "output_type": "execute_result"
    }
   ],
   "source": [
    "def convert_years(x):\n",
    "    if x == '10+ years':\n",
    "        return 10\n",
    "    elif x == '< 1 year':\n",
    "        return 1\n",
    "    else:\n",
    "        return str(x).split()[0]\n",
    "\n",
    "train_df[\"Years in current job\"] = train_df[\"Years in current job\"].apply(convert_years).astype(np.int64)\n",
    "train_df[\"Years in current job\"]"
   ]
  },
  {
   "cell_type": "code",
   "execution_count": 8,
   "id": "7d861706",
   "metadata": {},
   "outputs": [
    {
     "data": {
      "text/plain": [
       "<AxesSubplot:xlabel='Years in current job', ylabel='Count'>"
      ]
     },
     "execution_count": 8,
     "metadata": {},
     "output_type": "execute_result"
    },
    {
     "data": {
      "image/png": "[encoded data removed]",
      "text/plain": [
       "<Figure size 432x288 with 1 Axes>"
      ]
     },
     "metadata": {
      "needs_background": "light"
     },
     "output_type": "display_data"
    }
   ],
   "source": [
    "sns.histplot(train_df[\"Years in current job\"])"
   ]
  },
  {
   "cell_type": "markdown",
   "id": "4c7a01fa",
   "metadata": {},
   "source": [
    "Распределение ненормальное. Непонятно, куда девать пропуски. Наверное правильно было бы распределить их поровну между 10 years и всеми остальными, но что то не профит от этого неочевиден, поэтому все равно приравняю у медиане."
   ]
  },
  {
   "cell_type": "code",
   "execution_count": 9,
   "id": "d8188888",
   "metadata": {},
   "outputs": [
    {
     "data": {
      "text/plain": [
       "0        6\n",
       "1       10\n",
       "2        8\n",
       "3        6\n",
       "4        8\n",
       "        ..\n",
       "7495     1\n",
       "7496     1\n",
       "7497     6\n",
       "7498     6\n",
       "7499     4\n",
       "Name: Years in current job, Length: 7500, dtype: int64"
      ]
     },
     "execution_count": 9,
     "metadata": {},
     "output_type": "execute_result"
    }
   ],
   "source": [
    "train_df.loc[train_df[\"Years in current job\"] == 0, \"Years in current job\"] = train_df[\"Years in current job\"].median()\n",
    "train_df[\"Years in current job\"]"
   ]
  },
  {
   "cell_type": "markdown",
   "id": "baeb8c49",
   "metadata": {},
   "source": [
    "**Home Ownership**"
   ]
  },
  {
   "cell_type": "code",
   "execution_count": 10,
   "id": "bad61b28",
   "metadata": {},
   "outputs": [
    {
     "data": {
      "text/plain": [
       "Home Mortgage    3637\n",
       "Rent             3204\n",
       "Own Home          647\n",
       "Have Mortgage      12\n",
       "Name: Home Ownership, dtype: int64"
      ]
     },
     "execution_count": 10,
     "metadata": {},
     "output_type": "execute_result"
    }
   ],
   "source": [
    "train_df[\"Home Ownership\"].value_counts()"
   ]
  },
  {
   "cell_type": "markdown",
   "id": "68b75c92",
   "metadata": {},
   "source": [
    "Здесь хотелось бы как-то выделить владельцев собственных домов, но этого лучше не делать. Вместо этого объединим Have Mortgage и Home Mortgage и закодируем три категории:"
   ]
  },
  {
   "cell_type": "code",
   "execution_count": 11,
   "id": "77ff6630",
   "metadata": {},
   "outputs": [
    {
     "data": {
      "text/html": [
       "<div>\n",
       "<style scoped>\n",
       "    .dataframe tbody tr th:only-of-type {\n",
       "        vertical-align: middle;\n",
       "    }\n",
       "\n",
       "    .dataframe tbody tr th {\n",
       "        vertical-align: top;\n",
       "    }\n",
       "\n",
       "    .dataframe thead th {\n",
       "        text-align: right;\n",
       "    }\n",
       "</style>\n",
       "<table border=\"1\" class=\"dataframe\">\n",
       "  <thead>\n",
       "    <tr style=\"text-align: right;\">\n",
       "      <th></th>\n",
       "      <th>Annual Income</th>\n",
       "      <th>Years in current job</th>\n",
       "      <th>Tax Liens</th>\n",
       "      <th>Number of Open Accounts</th>\n",
       "      <th>Years of Credit History</th>\n",
       "      <th>Maximum Open Credit</th>\n",
       "      <th>Number of Credit Problems</th>\n",
       "      <th>Months since last delinquent</th>\n",
       "      <th>Bankruptcies</th>\n",
       "      <th>Purpose</th>\n",
       "      <th>Term</th>\n",
       "      <th>Current Loan Amount</th>\n",
       "      <th>Current Credit Balance</th>\n",
       "      <th>Monthly Debt</th>\n",
       "      <th>Credit Score</th>\n",
       "      <th>Credit Default</th>\n",
       "      <th>Home Mortgage</th>\n",
       "      <th>Own Home</th>\n",
       "      <th>Rent</th>\n",
       "    </tr>\n",
       "  </thead>\n",
       "  <tbody>\n",
       "    <tr>\n",
       "      <th>0</th>\n",
       "      <td>482087.0</td>\n",
       "      <td>6</td>\n",
       "      <td>0.0</td>\n",
       "      <td>11.0</td>\n",
       "      <td>26.3</td>\n",
       "      <td>685960.0</td>\n",
       "      <td>1.0</td>\n",
       "      <td>NaN</td>\n",
       "      <td>1.0</td>\n",
       "      <td>debt consolidation</td>\n",
       "      <td>Short Term</td>\n",
       "      <td>99999999.0</td>\n",
       "      <td>47386.0</td>\n",
       "      <td>7914.0</td>\n",
       "      <td>749.0</td>\n",
       "      <td>0</td>\n",
       "      <td>0</td>\n",
       "      <td>1</td>\n",
       "      <td>0</td>\n",
       "    </tr>\n",
       "    <tr>\n",
       "      <th>1</th>\n",
       "      <td>1025487.0</td>\n",
       "      <td>10</td>\n",
       "      <td>0.0</td>\n",
       "      <td>15.0</td>\n",
       "      <td>15.3</td>\n",
       "      <td>1181730.0</td>\n",
       "      <td>0.0</td>\n",
       "      <td>NaN</td>\n",
       "      <td>0.0</td>\n",
       "      <td>debt consolidation</td>\n",
       "      <td>Long Term</td>\n",
       "      <td>264968.0</td>\n",
       "      <td>394972.0</td>\n",
       "      <td>18373.0</td>\n",
       "      <td>737.0</td>\n",
       "      <td>1</td>\n",
       "      <td>0</td>\n",
       "      <td>1</td>\n",
       "      <td>0</td>\n",
       "    </tr>\n",
       "    <tr>\n",
       "      <th>2</th>\n",
       "      <td>751412.0</td>\n",
       "      <td>8</td>\n",
       "      <td>0.0</td>\n",
       "      <td>11.0</td>\n",
       "      <td>35.0</td>\n",
       "      <td>1182434.0</td>\n",
       "      <td>0.0</td>\n",
       "      <td>NaN</td>\n",
       "      <td>0.0</td>\n",
       "      <td>debt consolidation</td>\n",
       "      <td>Short Term</td>\n",
       "      <td>99999999.0</td>\n",
       "      <td>308389.0</td>\n",
       "      <td>13651.0</td>\n",
       "      <td>742.0</td>\n",
       "      <td>0</td>\n",
       "      <td>1</td>\n",
       "      <td>0</td>\n",
       "      <td>0</td>\n",
       "    </tr>\n",
       "    <tr>\n",
       "      <th>3</th>\n",
       "      <td>805068.0</td>\n",
       "      <td>6</td>\n",
       "      <td>0.0</td>\n",
       "      <td>8.0</td>\n",
       "      <td>22.5</td>\n",
       "      <td>147400.0</td>\n",
       "      <td>1.0</td>\n",
       "      <td>NaN</td>\n",
       "      <td>1.0</td>\n",
       "      <td>debt consolidation</td>\n",
       "      <td>Short Term</td>\n",
       "      <td>121396.0</td>\n",
       "      <td>95855.0</td>\n",
       "      <td>11338.0</td>\n",
       "      <td>694.0</td>\n",
       "      <td>0</td>\n",
       "      <td>0</td>\n",
       "      <td>1</td>\n",
       "      <td>0</td>\n",
       "    </tr>\n",
       "    <tr>\n",
       "      <th>4</th>\n",
       "      <td>776264.0</td>\n",
       "      <td>8</td>\n",
       "      <td>0.0</td>\n",
       "      <td>13.0</td>\n",
       "      <td>13.6</td>\n",
       "      <td>385836.0</td>\n",
       "      <td>1.0</td>\n",
       "      <td>NaN</td>\n",
       "      <td>0.0</td>\n",
       "      <td>debt consolidation</td>\n",
       "      <td>Short Term</td>\n",
       "      <td>125840.0</td>\n",
       "      <td>93309.0</td>\n",
       "      <td>7180.0</td>\n",
       "      <td>719.0</td>\n",
       "      <td>0</td>\n",
       "      <td>0</td>\n",
       "      <td>0</td>\n",
       "      <td>1</td>\n",
       "    </tr>\n",
       "    <tr>\n",
       "      <th>...</th>\n",
       "      <td>...</td>\n",
       "      <td>...</td>\n",
       "      <td>...</td>\n",
       "      <td>...</td>\n",
       "      <td>...</td>\n",
       "      <td>...</td>\n",
       "      <td>...</td>\n",
       "      <td>...</td>\n",
       "      <td>...</td>\n",
       "      <td>...</td>\n",
       "      <td>...</td>\n",
       "      <td>...</td>\n",
       "      <td>...</td>\n",
       "      <td>...</td>\n",
       "      <td>...</td>\n",
       "      <td>...</td>\n",
       "      <td>...</td>\n",
       "      <td>...</td>\n",
       "      <td>...</td>\n",
       "    </tr>\n",
       "    <tr>\n",
       "      <th>7495</th>\n",
       "      <td>402192.0</td>\n",
       "      <td>1</td>\n",
       "      <td>0.0</td>\n",
       "      <td>3.0</td>\n",
       "      <td>8.5</td>\n",
       "      <td>107866.0</td>\n",
       "      <td>0.0</td>\n",
       "      <td>NaN</td>\n",
       "      <td>0.0</td>\n",
       "      <td>other</td>\n",
       "      <td>Short Term</td>\n",
       "      <td>129360.0</td>\n",
       "      <td>73492.0</td>\n",
       "      <td>1900.0</td>\n",
       "      <td>697.0</td>\n",
       "      <td>0</td>\n",
       "      <td>0</td>\n",
       "      <td>0</td>\n",
       "      <td>1</td>\n",
       "    </tr>\n",
       "    <tr>\n",
       "      <th>7496</th>\n",
       "      <td>1533984.0</td>\n",
       "      <td>1</td>\n",
       "      <td>0.0</td>\n",
       "      <td>10.0</td>\n",
       "      <td>26.5</td>\n",
       "      <td>686312.0</td>\n",
       "      <td>0.0</td>\n",
       "      <td>43.0</td>\n",
       "      <td>0.0</td>\n",
       "      <td>debt consolidation</td>\n",
       "      <td>Long Term</td>\n",
       "      <td>444048.0</td>\n",
       "      <td>456399.0</td>\n",
       "      <td>12783.0</td>\n",
       "      <td>7410.0</td>\n",
       "      <td>1</td>\n",
       "      <td>1</td>\n",
       "      <td>0</td>\n",
       "      <td>0</td>\n",
       "    </tr>\n",
       "    <tr>\n",
       "      <th>7497</th>\n",
       "      <td>1878910.0</td>\n",
       "      <td>6</td>\n",
       "      <td>0.0</td>\n",
       "      <td>12.0</td>\n",
       "      <td>32.1</td>\n",
       "      <td>1778920.0</td>\n",
       "      <td>0.0</td>\n",
       "      <td>NaN</td>\n",
       "      <td>0.0</td>\n",
       "      <td>buy a car</td>\n",
       "      <td>Short Term</td>\n",
       "      <td>99999999.0</td>\n",
       "      <td>477812.0</td>\n",
       "      <td>12479.0</td>\n",
       "      <td>748.0</td>\n",
       "      <td>0</td>\n",
       "      <td>0</td>\n",
       "      <td>0</td>\n",
       "      <td>1</td>\n",
       "    </tr>\n",
       "    <tr>\n",
       "      <th>7498</th>\n",
       "      <td>NaN</td>\n",
       "      <td>6</td>\n",
       "      <td>0.0</td>\n",
       "      <td>21.0</td>\n",
       "      <td>26.5</td>\n",
       "      <td>1141250.0</td>\n",
       "      <td>0.0</td>\n",
       "      <td>NaN</td>\n",
       "      <td>0.0</td>\n",
       "      <td>debt consolidation</td>\n",
       "      <td>Short Term</td>\n",
       "      <td>615274.0</td>\n",
       "      <td>476064.0</td>\n",
       "      <td>37118.0</td>\n",
       "      <td>NaN</td>\n",
       "      <td>0</td>\n",
       "      <td>1</td>\n",
       "      <td>0</td>\n",
       "      <td>0</td>\n",
       "    </tr>\n",
       "    <tr>\n",
       "      <th>7499</th>\n",
       "      <td>NaN</td>\n",
       "      <td>4</td>\n",
       "      <td>0.0</td>\n",
       "      <td>8.0</td>\n",
       "      <td>9.4</td>\n",
       "      <td>480832.0</td>\n",
       "      <td>0.0</td>\n",
       "      <td>NaN</td>\n",
       "      <td>0.0</td>\n",
       "      <td>debt consolidation</td>\n",
       "      <td>Short Term</td>\n",
       "      <td>26928.0</td>\n",
       "      <td>288192.0</td>\n",
       "      <td>9061.0</td>\n",
       "      <td>NaN</td>\n",
       "      <td>0</td>\n",
       "      <td>0</td>\n",
       "      <td>0</td>\n",
       "      <td>1</td>\n",
       "    </tr>\n",
       "  </tbody>\n",
       "</table>\n",
       "<p>7500 rows × 19 columns</p>\n",
       "</div>"
      ],
      "text/plain": [
       "      Annual Income  Years in current job  Tax Liens  Number of Open Accounts  \\\n",
       "0          482087.0                     6        0.0                     11.0   \n",
       "1         1025487.0                    10        0.0                     15.0   \n",
       "2          751412.0                     8        0.0                     11.0   \n",
       "3          805068.0                     6        0.0                      8.0   \n",
       "4          776264.0                     8        0.0                     13.0   \n",
       "...             ...                   ...        ...                      ...   \n",
       "7495       402192.0                     1        0.0                      3.0   \n",
       "7496      1533984.0                     1        0.0                     10.0   \n",
       "7497      1878910.0                     6        0.0                     12.0   \n",
       "7498            NaN                     6        0.0                     21.0   \n",
       "7499            NaN                     4        0.0                      8.0   \n",
       "\n",
       "      Years of Credit History  Maximum Open Credit  Number of Credit Problems  \\\n",
       "0                        26.3             685960.0                        1.0   \n",
       "1                        15.3            1181730.0                        0.0   \n",
       "2                        35.0            1182434.0                        0.0   \n",
       "3                        22.5             147400.0                        1.0   \n",
       "4                        13.6             385836.0                        1.0   \n",
       "...                       ...                  ...                        ...   \n",
       "7495                      8.5             107866.0                        0.0   \n",
       "7496                     26.5             686312.0                        0.0   \n",
       "7497                     32.1            1778920.0                        0.0   \n",
       "7498                     26.5            1141250.0                        0.0   \n",
       "7499                      9.4             480832.0                        0.0   \n",
       "\n",
       "      Months since last delinquent  Bankruptcies             Purpose  \\\n",
       "0                              NaN           1.0  debt consolidation   \n",
       "1                              NaN           0.0  debt consolidation   \n",
       "2                              NaN           0.0  debt consolidation   \n",
       "3                              NaN           1.0  debt consolidation   \n",
       "4                              NaN           0.0  debt consolidation   \n",
       "...                            ...           ...                 ...   \n",
       "7495                           NaN           0.0               other   \n",
       "7496                          43.0           0.0  debt consolidation   \n",
       "7497                           NaN           0.0           buy a car   \n",
       "7498                           NaN           0.0  debt consolidation   \n",
       "7499                           NaN           0.0  debt consolidation   \n",
       "\n",
       "            Term  Current Loan Amount  Current Credit Balance  Monthly Debt  \\\n",
       "0     Short Term           99999999.0                 47386.0        7914.0   \n",
       "1      Long Term             264968.0                394972.0       18373.0   \n",
       "2     Short Term           99999999.0                308389.0       13651.0   \n",
       "3     Short Term             121396.0                 95855.0       11338.0   \n",
       "4     Short Term             125840.0                 93309.0        7180.0   \n",
       "...          ...                  ...                     ...           ...   \n",
       "7495  Short Term             129360.0                 73492.0        1900.0   \n",
       "7496   Long Term             444048.0                456399.0       12783.0   \n",
       "7497  Short Term           99999999.0                477812.0       12479.0   \n",
       "7498  Short Term             615274.0                476064.0       37118.0   \n",
       "7499  Short Term              26928.0                288192.0        9061.0   \n",
       "\n",
       "      Credit Score  Credit Default  Home Mortgage  Own Home  Rent  \n",
       "0            749.0               0              0         1     0  \n",
       "1            737.0               1              0         1     0  \n",
       "2            742.0               0              1         0     0  \n",
       "3            694.0               0              0         1     0  \n",
       "4            719.0               0              0         0     1  \n",
       "...            ...             ...            ...       ...   ...  \n",
       "7495         697.0               0              0         0     1  \n",
       "7496        7410.0               1              1         0     0  \n",
       "7497         748.0               0              0         0     1  \n",
       "7498           NaN               0              1         0     0  \n",
       "7499           NaN               0              0         0     1  \n",
       "\n",
       "[7500 rows x 19 columns]"
      ]
     },
     "execution_count": 11,
     "metadata": {},
     "output_type": "execute_result"
    }
   ],
   "source": [
    "train_df.loc[train_df[\"Home Ownership\"] == \"Have Mortgage\", \"Home Ownership\"] = \"Home Mortgage\"\n",
    "train_df = pd.concat([train_df, pd.get_dummies(train_df[\"Home Ownership\"], dtype=np.uint64)], axis=1)\n",
    "train_df.drop([\"Home Ownership\"], inplace=True, axis=1)\n",
    "train_df"
   ]
  },
  {
   "cell_type": "markdown",
   "id": "2a8b4752",
   "metadata": {},
   "source": [
    "**Purpose**"
   ]
  },
  {
   "cell_type": "code",
   "execution_count": 12,
   "id": "7639f51b",
   "metadata": {
    "scrolled": true
   },
   "outputs": [
    {
     "data": {
      "text/plain": [
       "debt consolidation      5944\n",
       "other                    665\n",
       "home improvements        412\n",
       "business loan            129\n",
       "buy a car                 96\n",
       "medical bills             71\n",
       "major purchase            40\n",
       "take a trip               37\n",
       "buy house                 34\n",
       "small business            26\n",
       "wedding                   15\n",
       "moving                    11\n",
       "educational expenses      10\n",
       "vacation                   8\n",
       "renewable energy           2\n",
       "Name: Purpose, dtype: int64"
      ]
     },
     "execution_count": 12,
     "metadata": {},
     "output_type": "execute_result"
    }
   ],
   "source": [
    "train_df[\"Purpose\"].value_counts()"
   ]
  },
  {
   "cell_type": "markdown",
   "id": "1804900f",
   "metadata": {},
   "source": [
    "Можно предположить, что должники, которые консолидируют долг испытывают трудности с оплатой. А вот доля большинства остальных категорий кроме может быть непонятного other невелика, и окажут ли они вообще влияние на общую картину, непонятно. У меня была мысль вообще дропнуть этот предиктор, но я думаю что лучше разделить его на debt consolidation и остальных"
   ]
  },
  {
   "cell_type": "code",
   "execution_count": 13,
   "id": "6269c3f4",
   "metadata": {},
   "outputs": [],
   "source": [
    "train_df[\"is_debt_cons\"] = 0\n",
    "train_df.loc[train_df[\"Purpose\"] == \"debt consolidation\", \"is_debt_cons\"] = 1\n",
    "train_df.drop([\"Purpose\"], inplace=True, axis=1)"
   ]
  },
  {
   "cell_type": "markdown",
   "id": "969dd790",
   "metadata": {},
   "source": [
    "**Term**"
   ]
  },
  {
   "cell_type": "code",
   "execution_count": 14,
   "id": "a857137c",
   "metadata": {},
   "outputs": [
    {
     "data": {
      "text/plain": [
       "Short Term    5556\n",
       "Long Term     1944\n",
       "Name: Term, dtype: int64"
      ]
     },
     "execution_count": 14,
     "metadata": {},
     "output_type": "execute_result"
    }
   ],
   "source": [
    "train_df[\"Term\"].value_counts()"
   ]
  },
  {
   "cell_type": "markdown",
   "id": "1933dd51",
   "metadata": {},
   "source": [
    "Непонятно, насколько этот признак полезен. С другой стороны, его легко перевести в бинарное представление:"
   ]
  },
  {
   "cell_type": "code",
   "execution_count": 15,
   "id": "3e0709d4",
   "metadata": {},
   "outputs": [
    {
     "data": {
      "text/html": [
       "<div>\n",
       "<style scoped>\n",
       "    .dataframe tbody tr th:only-of-type {\n",
       "        vertical-align: middle;\n",
       "    }\n",
       "\n",
       "    .dataframe tbody tr th {\n",
       "        vertical-align: top;\n",
       "    }\n",
       "\n",
       "    .dataframe thead th {\n",
       "        text-align: right;\n",
       "    }\n",
       "</style>\n",
       "<table border=\"1\" class=\"dataframe\">\n",
       "  <thead>\n",
       "    <tr style=\"text-align: right;\">\n",
       "      <th></th>\n",
       "      <th>is_short_term</th>\n",
       "      <th>is_long_term</th>\n",
       "    </tr>\n",
       "  </thead>\n",
       "  <tbody>\n",
       "    <tr>\n",
       "      <th>0</th>\n",
       "      <td>1</td>\n",
       "      <td>0</td>\n",
       "    </tr>\n",
       "    <tr>\n",
       "      <th>1</th>\n",
       "      <td>0</td>\n",
       "      <td>1</td>\n",
       "    </tr>\n",
       "    <tr>\n",
       "      <th>2</th>\n",
       "      <td>1</td>\n",
       "      <td>0</td>\n",
       "    </tr>\n",
       "    <tr>\n",
       "      <th>3</th>\n",
       "      <td>1</td>\n",
       "      <td>0</td>\n",
       "    </tr>\n",
       "    <tr>\n",
       "      <th>4</th>\n",
       "      <td>1</td>\n",
       "      <td>0</td>\n",
       "    </tr>\n",
       "    <tr>\n",
       "      <th>...</th>\n",
       "      <td>...</td>\n",
       "      <td>...</td>\n",
       "    </tr>\n",
       "    <tr>\n",
       "      <th>7495</th>\n",
       "      <td>1</td>\n",
       "      <td>0</td>\n",
       "    </tr>\n",
       "    <tr>\n",
       "      <th>7496</th>\n",
       "      <td>0</td>\n",
       "      <td>1</td>\n",
       "    </tr>\n",
       "    <tr>\n",
       "      <th>7497</th>\n",
       "      <td>1</td>\n",
       "      <td>0</td>\n",
       "    </tr>\n",
       "    <tr>\n",
       "      <th>7498</th>\n",
       "      <td>1</td>\n",
       "      <td>0</td>\n",
       "    </tr>\n",
       "    <tr>\n",
       "      <th>7499</th>\n",
       "      <td>1</td>\n",
       "      <td>0</td>\n",
       "    </tr>\n",
       "  </tbody>\n",
       "</table>\n",
       "<p>7500 rows × 2 columns</p>\n",
       "</div>"
      ],
      "text/plain": [
       "      is_short_term  is_long_term\n",
       "0                 1             0\n",
       "1                 0             1\n",
       "2                 1             0\n",
       "3                 1             0\n",
       "4                 1             0\n",
       "...             ...           ...\n",
       "7495              1             0\n",
       "7496              0             1\n",
       "7497              1             0\n",
       "7498              1             0\n",
       "7499              1             0\n",
       "\n",
       "[7500 rows x 2 columns]"
      ]
     },
     "execution_count": 15,
     "metadata": {},
     "output_type": "execute_result"
    }
   ],
   "source": [
    "train_df[[\"is_short_term\", \"is_long_term\"]] = 0\n",
    "train_df.loc[train_df[\"Term\"] == \"Short Term\", \"is_short_term\"] = 1\n",
    "train_df.loc[train_df[\"Term\"] == \"Long Term\", \"is_long_term\"] = 1\n",
    "train_df.drop([\"Term\"], inplace=True, axis=1)\n",
    "train_df[[\"is_short_term\", \"is_long_term\"]]"
   ]
  },
  {
   "cell_type": "markdown",
   "id": "a1eec205",
   "metadata": {},
   "source": [
    "### Заполнение пропусов"
   ]
  },
  {
   "cell_type": "markdown",
   "id": "59ce0f14",
   "metadata": {},
   "source": [
    "#### Annual Income"
   ]
  },
  {
   "cell_type": "code",
   "execution_count": 16,
   "id": "92cb6996",
   "metadata": {},
   "outputs": [
    {
     "data": {
      "text/plain": [
       "<AxesSubplot:xlabel='Annual Income', ylabel='Count'>"
      ]
     },
     "execution_count": 16,
     "metadata": {},
     "output_type": "execute_result"
    },
    {
     "data": {
      "image/png": "[encoded data removed]",
      "text/plain": [
       "<Figure size 432x288 with 1 Axes>"
      ]
     },
     "metadata": {
      "needs_background": "light"
     },
     "output_type": "display_data"
    }
   ],
   "source": [
    "sns.histplot(train_df[\"Annual Income\"])"
   ]
  },
  {
   "cell_type": "markdown",
   "id": "742559f8",
   "metadata": {},
   "source": [
    "А вот тут поскольку распределение нормальное. Проверим, что будет, если заменить NaNы на медиану:"
   ]
  },
  {
   "cell_type": "code",
   "execution_count": 17,
   "id": "7fef7077",
   "metadata": {},
   "outputs": [
    {
     "data": {
      "text/plain": [
       "<AxesSubplot:xlabel='Annual Income', ylabel='Count'>"
      ]
     },
     "execution_count": 17,
     "metadata": {},
     "output_type": "execute_result"
    },
    {
     "data": {
      "image/png": "[encoded data removed]",
      "text/plain": [
       "<Figure size 432x288 with 1 Axes>"
      ]
     },
     "metadata": {
      "needs_background": "light"
     },
     "output_type": "display_data"
    }
   ],
   "source": [
    "sns.histplot(train_df[\"Annual Income\"].fillna(train_df[\"Annual Income\"].median()))"
   ]
  },
  {
   "cell_type": "markdown",
   "id": "f90c7506",
   "metadata": {},
   "source": [
    "Я все же предпочту сделать еще один признак, в котором отмечу еденицей те наблюдения, где есть пропуск в Annual Income. Уж очень сильно на мой взгляд меняется картина после заполнения медианами."
   ]
  },
  {
   "cell_type": "code",
   "execution_count": 18,
   "id": "90eccf32",
   "metadata": {},
   "outputs": [],
   "source": [
    "train_df[\"ai_nan\"] = 0\n",
    "train_df.loc[train_df[\"Annual Income\"].isna() == True, \"ai_nan\"] = 1"
   ]
  },
  {
   "cell_type": "code",
   "execution_count": 19,
   "id": "0d7a794a",
   "metadata": {},
   "outputs": [],
   "source": [
    "train_df[\"Annual Income\"].fillna(train_df[\"Annual Income\"].median(), inplace = True)"
   ]
  },
  {
   "cell_type": "code",
   "execution_count": 20,
   "id": "de375809",
   "metadata": {},
   "outputs": [
    {
     "data": {
      "text/plain": [
       "0    5943\n",
       "1    1557\n",
       "Name: ai_nan, dtype: int64"
      ]
     },
     "execution_count": 20,
     "metadata": {},
     "output_type": "execute_result"
    }
   ],
   "source": [
    "train_df[\"ai_nan\"].value_counts()"
   ]
  },
  {
   "cell_type": "markdown",
   "id": "356226a7",
   "metadata": {},
   "source": [
    "#### Credit Score"
   ]
  },
  {
   "cell_type": "code",
   "execution_count": 21,
   "id": "4aa6806a",
   "metadata": {},
   "outputs": [
    {
     "data": {
      "text/plain": [
       "<AxesSubplot:xlabel='Credit Score', ylabel='Count'>"
      ]
     },
     "execution_count": 21,
     "metadata": {},
     "output_type": "execute_result"
    },
    {
     "data": {
      "image/png": "[encoded data removed]",
      "text/plain": [
       "<Figure size 432x288 with 1 Axes>"
      ]
     },
     "metadata": {
      "needs_background": "light"
     },
     "output_type": "display_data"
    }
   ],
   "source": [
    "sns.histplot(train_df[\"Credit Score\"])"
   ]
  },
  {
   "cell_type": "markdown",
   "id": "7d2e463d",
   "metadata": {},
   "source": [
    "Здесь поступим также, как и с Annual Income"
   ]
  },
  {
   "cell_type": "code",
   "execution_count": 22,
   "id": "25b75ea6",
   "metadata": {},
   "outputs": [
    {
     "data": {
      "text/plain": [
       "0    5943\n",
       "1    1557\n",
       "Name: cs_nan, dtype: int64"
      ]
     },
     "execution_count": 22,
     "metadata": {},
     "output_type": "execute_result"
    }
   ],
   "source": [
    "train_df[\"cs_nan\"] = 0\n",
    "train_df.loc[train_df[\"Credit Score\"].isna() == True, \"cs_nan\"] = 1\n",
    "train_df[\"Credit Score\"].fillna(train_df[\"Credit Score\"].median(), inplace = True)\n",
    "train_df[\"cs_nan\"].value_counts()"
   ]
  },
  {
   "cell_type": "markdown",
   "id": "be306644",
   "metadata": {},
   "source": [
    "#### Months since last delinquent"
   ]
  },
  {
   "cell_type": "markdown",
   "id": "5f5a0ae2",
   "metadata": {},
   "source": [
    "У этого предиктора более половина записей NaN. Значимость его очевидна. Дропаем:"
   ]
  },
  {
   "cell_type": "code",
   "execution_count": 23,
   "id": "ebd5bbc3",
   "metadata": {},
   "outputs": [],
   "source": [
    "train_df.drop([\"Months since last delinquent\"], inplace=True, axis=1)"
   ]
  },
  {
   "cell_type": "markdown",
   "id": "de5eaeff",
   "metadata": {},
   "source": [
    "#### Bankruptcies"
   ]
  },
  {
   "cell_type": "code",
   "execution_count": 24,
   "id": "d612f6aa",
   "metadata": {},
   "outputs": [
    {
     "data": {
      "text/plain": [
       "<AxesSubplot:xlabel='Bankruptcies', ylabel='Count'>"
      ]
     },
     "execution_count": 24,
     "metadata": {},
     "output_type": "execute_result"
    },
    {
     "data": {
      "image/png": "[encoded data removed]",
      "text/plain": [
       "<Figure size 432x288 with 1 Axes>"
      ]
     },
     "metadata": {
      "needs_background": "light"
     },
     "output_type": "display_data"
    }
   ],
   "source": [
    "sns.histplot(train_df[\"Bankruptcies\"])"
   ]
  },
  {
   "cell_type": "code",
   "execution_count": 25,
   "id": "6a2e2940",
   "metadata": {},
   "outputs": [
    {
     "data": {
      "text/plain": [
       "0.0    6660\n",
       "1.0     786\n",
       "2.0      31\n",
       "3.0       7\n",
       "4.0       2\n",
       "Name: Bankruptcies, dtype: int64"
      ]
     },
     "execution_count": 25,
     "metadata": {},
     "output_type": "execute_result"
    }
   ],
   "source": [
    "train_df[\"Bankruptcies\"].value_counts()"
   ]
  },
  {
   "cell_type": "markdown",
   "id": "e49a9fb8",
   "metadata": {},
   "source": [
    "Будем считать, что у незаполненных наблюдений было 0 банкротств, хоть мне и не нравится такое упрощение."
   ]
  },
  {
   "cell_type": "code",
   "execution_count": 26,
   "id": "2433020b",
   "metadata": {},
   "outputs": [],
   "source": [
    "train_df[\"Bankruptcies\"].fillna(0, inplace=True)"
   ]
  },
  {
   "cell_type": "markdown",
   "id": "83a2a994",
   "metadata": {},
   "source": [
    "Переведем в int:"
   ]
  },
  {
   "cell_type": "code",
   "execution_count": 27,
   "id": "e3d1f178",
   "metadata": {},
   "outputs": [],
   "source": [
    "train_df[\"Bankruptcies\"] = train_df[\"Bankruptcies\"].astype(np.int64)"
   ]
  },
  {
   "cell_type": "markdown",
   "id": "7892652b",
   "metadata": {},
   "source": [
    "### Немного EDA"
   ]
  },
  {
   "cell_type": "markdown",
   "id": "98b01b40",
   "metadata": {},
   "source": [
    "Посмотрим на другие предикторы:\n",
    "\n",
    "* **Annual Income** - годовой доход\n",
    "* **Tax Liens** - налоговые обременения\n",
    "* **Number of Open Accounts** - количество открытых счетов\n",
    "* **Years of Credit History** - количество лет кредитной истории\n",
    "* **Maximum Open Credit** - наибольший открытый кредит\n",
    "* **Number of Credit Problems** - количество проблем с кредитом\n",
    "* **Bankruptcies** - банкротства\n",
    "* **Current Loan Amount** - текущая сумма кредита\n",
    "* **Current Credit Balance** - текущий кредитный баланс\n",
    "* **Monthly Debt** - ежемесячный долг\n",
    "* **Credit Score** - кредитный рейтинг\n",
    "* **Credit Default** - факт невыполнения кредитных обязательств (0 - погашен вовремя, 1 - просрочка)"
   ]
  },
  {
   "cell_type": "markdown",
   "id": "43bdc542",
   "metadata": {},
   "source": [
    "**Credit Score и Annual Income**  \n",
    "Проверим, совпадают ли наблюдения где эти предикторы не заполнены в этих наблюдениях:"
   ]
  },
  {
   "cell_type": "code",
   "execution_count": 28,
   "id": "dd5d7112",
   "metadata": {},
   "outputs": [],
   "source": [
    "list_of_predictors2 = ['Annual Income', 'Tax Liens', 'Number of Open Accounts', 'Years of Credit History', 'Maximum Open Credit', 'Number of Credit Problems', 'Current Loan Amount', 'Current Credit Balance', 'Monthly Debt', 'Credit Score', 'Credit Default']"
   ]
  },
  {
   "cell_type": "code",
   "execution_count": 29,
   "id": "1946607a",
   "metadata": {},
   "outputs": [
    {
     "data": {
      "text/html": [
       "<div>\n",
       "<style scoped>\n",
       "    .dataframe tbody tr th:only-of-type {\n",
       "        vertical-align: middle;\n",
       "    }\n",
       "\n",
       "    .dataframe tbody tr th {\n",
       "        vertical-align: top;\n",
       "    }\n",
       "\n",
       "    .dataframe thead th {\n",
       "        text-align: right;\n",
       "    }\n",
       "</style>\n",
       "<table border=\"1\" class=\"dataframe\">\n",
       "  <thead>\n",
       "    <tr style=\"text-align: right;\">\n",
       "      <th></th>\n",
       "      <th>Annual Income</th>\n",
       "      <th>Tax Liens</th>\n",
       "      <th>Number of Open Accounts</th>\n",
       "      <th>Years of Credit History</th>\n",
       "      <th>Maximum Open Credit</th>\n",
       "      <th>Number of Credit Problems</th>\n",
       "      <th>Current Loan Amount</th>\n",
       "      <th>Current Credit Balance</th>\n",
       "      <th>Monthly Debt</th>\n",
       "      <th>Credit Score</th>\n",
       "      <th>Credit Default</th>\n",
       "    </tr>\n",
       "  </thead>\n",
       "  <tbody>\n",
       "    <tr>\n",
       "      <th>count</th>\n",
       "      <td>7.500000e+03</td>\n",
       "      <td>7500.000000</td>\n",
       "      <td>7500.000000</td>\n",
       "      <td>7500.000000</td>\n",
       "      <td>7.500000e+03</td>\n",
       "      <td>7500.000000</td>\n",
       "      <td>7.500000e+03</td>\n",
       "      <td>7.500000e+03</td>\n",
       "      <td>7500.000000</td>\n",
       "      <td>7500.000000</td>\n",
       "      <td>7500.000000</td>\n",
       "    </tr>\n",
       "    <tr>\n",
       "      <th>mean</th>\n",
       "      <td>1.325286e+06</td>\n",
       "      <td>0.030133</td>\n",
       "      <td>11.130933</td>\n",
       "      <td>18.317467</td>\n",
       "      <td>9.451537e+05</td>\n",
       "      <td>0.170000</td>\n",
       "      <td>1.187318e+07</td>\n",
       "      <td>2.898332e+05</td>\n",
       "      <td>18314.454133</td>\n",
       "      <td>1063.877333</td>\n",
       "      <td>0.281733</td>\n",
       "    </tr>\n",
       "    <tr>\n",
       "      <th>std</th>\n",
       "      <td>7.567551e+05</td>\n",
       "      <td>0.271604</td>\n",
       "      <td>4.908924</td>\n",
       "      <td>7.041946</td>\n",
       "      <td>1.602622e+07</td>\n",
       "      <td>0.498598</td>\n",
       "      <td>3.192612e+07</td>\n",
       "      <td>3.178714e+05</td>\n",
       "      <td>11926.764673</td>\n",
       "      <td>1438.335832</td>\n",
       "      <td>0.449874</td>\n",
       "    </tr>\n",
       "    <tr>\n",
       "      <th>min</th>\n",
       "      <td>1.645970e+05</td>\n",
       "      <td>0.000000</td>\n",
       "      <td>2.000000</td>\n",
       "      <td>4.000000</td>\n",
       "      <td>0.000000e+00</td>\n",
       "      <td>0.000000</td>\n",
       "      <td>1.124200e+04</td>\n",
       "      <td>0.000000e+00</td>\n",
       "      <td>0.000000</td>\n",
       "      <td>585.000000</td>\n",
       "      <td>0.000000</td>\n",
       "    </tr>\n",
       "    <tr>\n",
       "      <th>25%</th>\n",
       "      <td>9.311330e+05</td>\n",
       "      <td>0.000000</td>\n",
       "      <td>8.000000</td>\n",
       "      <td>13.500000</td>\n",
       "      <td>2.792295e+05</td>\n",
       "      <td>0.000000</td>\n",
       "      <td>1.801690e+05</td>\n",
       "      <td>1.142565e+05</td>\n",
       "      <td>10067.500000</td>\n",
       "      <td>718.000000</td>\n",
       "      <td>0.000000</td>\n",
       "    </tr>\n",
       "    <tr>\n",
       "      <th>50%</th>\n",
       "      <td>1.168386e+06</td>\n",
       "      <td>0.000000</td>\n",
       "      <td>10.000000</td>\n",
       "      <td>17.000000</td>\n",
       "      <td>4.781590e+05</td>\n",
       "      <td>0.000000</td>\n",
       "      <td>3.095730e+05</td>\n",
       "      <td>2.093230e+05</td>\n",
       "      <td>16076.500000</td>\n",
       "      <td>731.000000</td>\n",
       "      <td>0.000000</td>\n",
       "    </tr>\n",
       "    <tr>\n",
       "      <th>75%</th>\n",
       "      <td>1.499974e+06</td>\n",
       "      <td>0.000000</td>\n",
       "      <td>14.000000</td>\n",
       "      <td>21.800000</td>\n",
       "      <td>7.935015e+05</td>\n",
       "      <td>0.000000</td>\n",
       "      <td>5.198820e+05</td>\n",
       "      <td>3.604062e+05</td>\n",
       "      <td>23818.000000</td>\n",
       "      <td>740.000000</td>\n",
       "      <td>1.000000</td>\n",
       "    </tr>\n",
       "    <tr>\n",
       "      <th>max</th>\n",
       "      <td>1.014934e+07</td>\n",
       "      <td>7.000000</td>\n",
       "      <td>43.000000</td>\n",
       "      <td>57.700000</td>\n",
       "      <td>1.304726e+09</td>\n",
       "      <td>7.000000</td>\n",
       "      <td>1.000000e+08</td>\n",
       "      <td>6.506797e+06</td>\n",
       "      <td>136679.000000</td>\n",
       "      <td>7510.000000</td>\n",
       "      <td>1.000000</td>\n",
       "    </tr>\n",
       "  </tbody>\n",
       "</table>\n",
       "</div>"
      ],
      "text/plain": [
       "       Annual Income    Tax Liens  Number of Open Accounts  \\\n",
       "count   7.500000e+03  7500.000000              7500.000000   \n",
       "mean    1.325286e+06     0.030133                11.130933   \n",
       "std     7.567551e+05     0.271604                 4.908924   \n",
       "min     1.645970e+05     0.000000                 2.000000   \n",
       "25%     9.311330e+05     0.000000                 8.000000   \n",
       "50%     1.168386e+06     0.000000                10.000000   \n",
       "75%     1.499974e+06     0.000000                14.000000   \n",
       "max     1.014934e+07     7.000000                43.000000   \n",
       "\n",
       "       Years of Credit History  Maximum Open Credit  \\\n",
       "count              7500.000000         7.500000e+03   \n",
       "mean                 18.317467         9.451537e+05   \n",
       "std                   7.041946         1.602622e+07   \n",
       "min                   4.000000         0.000000e+00   \n",
       "25%                  13.500000         2.792295e+05   \n",
       "50%                  17.000000         4.781590e+05   \n",
       "75%                  21.800000         7.935015e+05   \n",
       "max                  57.700000         1.304726e+09   \n",
       "\n",
       "       Number of Credit Problems  Current Loan Amount  Current Credit Balance  \\\n",
       "count                7500.000000         7.500000e+03            7.500000e+03   \n",
       "mean                    0.170000         1.187318e+07            2.898332e+05   \n",
       "std                     0.498598         3.192612e+07            3.178714e+05   \n",
       "min                     0.000000         1.124200e+04            0.000000e+00   \n",
       "25%                     0.000000         1.801690e+05            1.142565e+05   \n",
       "50%                     0.000000         3.095730e+05            2.093230e+05   \n",
       "75%                     0.000000         5.198820e+05            3.604062e+05   \n",
       "max                     7.000000         1.000000e+08            6.506797e+06   \n",
       "\n",
       "        Monthly Debt  Credit Score  Credit Default  \n",
       "count    7500.000000   7500.000000     7500.000000  \n",
       "mean    18314.454133   1063.877333        0.281733  \n",
       "std     11926.764673   1438.335832        0.449874  \n",
       "min         0.000000    585.000000        0.000000  \n",
       "25%     10067.500000    718.000000        0.000000  \n",
       "50%     16076.500000    731.000000        0.000000  \n",
       "75%     23818.000000    740.000000        1.000000  \n",
       "max    136679.000000   7510.000000        1.000000  "
      ]
     },
     "execution_count": 29,
     "metadata": {},
     "output_type": "execute_result"
    }
   ],
   "source": [
    "train_df[list_of_predictors2].describe()"
   ]
  },
  {
   "cell_type": "markdown",
   "id": "14c50248",
   "metadata": {},
   "source": [
    "**Current Credit Balance**"
   ]
  },
  {
   "cell_type": "markdown",
   "id": "b4612506",
   "metadata": {},
   "source": [
    "Бросается в глаза минимальное значение для Current Credit Balance: 0.0. Поэтому нарисуем гистограмму:"
   ]
  },
  {
   "cell_type": "code",
   "execution_count": 30,
   "id": "da66c055",
   "metadata": {},
   "outputs": [
    {
     "data": {
      "text/plain": [
       "<AxesSubplot:xlabel='Current Credit Balance', ylabel='Count'>"
      ]
     },
     "execution_count": 30,
     "metadata": {},
     "output_type": "execute_result"
    },
    {
     "data": {
      "image/png": "[encoded data removed]",
      "text/plain": [
       "<Figure size 432x288 with 1 Axes>"
      ]
     },
     "metadata": {
      "needs_background": "light"
     },
     "output_type": "display_data"
    }
   ],
   "source": [
    "sns.histplot(train_df.loc[train_df['Current Credit Balance'] < 1000, 'Current Credit Balance'])"
   ]
  },
  {
   "cell_type": "markdown",
   "id": "87a9e7ba",
   "metadata": {},
   "source": [
    "Всего 60 случаев. Может быть это какие-то ситуации, когда платеж начинается не с первого месяца. Не знаю, но полагаю что 60 случаев на фоне 7500 - приемлемый шум."
   ]
  },
  {
   "cell_type": "markdown",
   "id": "51b400eb",
   "metadata": {},
   "source": [
    "**Credit Score и Annual Income**"
   ]
  },
  {
   "cell_type": "code",
   "execution_count": 31,
   "id": "5e4c73bb",
   "metadata": {},
   "outputs": [
    {
     "data": {
      "text/plain": [
       "Int64Index([], dtype='int64')"
      ]
     },
     "execution_count": 31,
     "metadata": {},
     "output_type": "execute_result"
    }
   ],
   "source": [
    "train_df.loc[(train_df[\"Credit Score\"].isna() | train_df[\"Annual Income\"].isna()), [\"Credit Score\", \"Annual Income\"]].index"
   ]
  },
  {
   "cell_type": "code",
   "execution_count": 32,
   "id": "730bdd06",
   "metadata": {},
   "outputs": [
    {
     "name": "stdout",
     "output_type": "stream",
     "text": [
      "Итак, 1557, или 20.76% наблюдении не имеют информации о кредитном рейтинге и доходе\n"
     ]
    }
   ],
   "source": [
    "print(f\"Итак, 1557, или {(1557/7500) * 100}% наблюдении не имеют информации о кредитном рейтинге и доходе\")"
   ]
  },
  {
   "cell_type": "markdown",
   "id": "3dd233ba",
   "metadata": {},
   "source": [
    "**Tax liens**"
   ]
  },
  {
   "cell_type": "markdown",
   "id": "c6f611df",
   "metadata": {},
   "source": [
    "Tax liens - количество исков со стороны государства при неуплате налогов. Интересно, коррелирует ли этот показатесь с Number of Credit Problems:"
   ]
  },
  {
   "cell_type": "code",
   "execution_count": 33,
   "id": "d0112097",
   "metadata": {},
   "outputs": [
    {
     "data": {
      "text/html": [
       "<div>\n",
       "<style scoped>\n",
       "    .dataframe tbody tr th:only-of-type {\n",
       "        vertical-align: middle;\n",
       "    }\n",
       "\n",
       "    .dataframe tbody tr th {\n",
       "        vertical-align: top;\n",
       "    }\n",
       "\n",
       "    .dataframe thead th {\n",
       "        text-align: right;\n",
       "    }\n",
       "</style>\n",
       "<table border=\"1\" class=\"dataframe\">\n",
       "  <thead>\n",
       "    <tr style=\"text-align: right;\">\n",
       "      <th></th>\n",
       "      <th>Tax Liens</th>\n",
       "      <th>Tax Liens</th>\n",
       "    </tr>\n",
       "  </thead>\n",
       "  <tbody>\n",
       "    <tr>\n",
       "      <th>1</th>\n",
       "      <td>0.0</td>\n",
       "      <td>0.0</td>\n",
       "    </tr>\n",
       "    <tr>\n",
       "      <th>2</th>\n",
       "      <td>0.0</td>\n",
       "      <td>0.0</td>\n",
       "    </tr>\n",
       "    <tr>\n",
       "      <th>5</th>\n",
       "      <td>0.0</td>\n",
       "      <td>0.0</td>\n",
       "    </tr>\n",
       "    <tr>\n",
       "      <th>6</th>\n",
       "      <td>0.0</td>\n",
       "      <td>0.0</td>\n",
       "    </tr>\n",
       "    <tr>\n",
       "      <th>7</th>\n",
       "      <td>0.0</td>\n",
       "      <td>0.0</td>\n",
       "    </tr>\n",
       "    <tr>\n",
       "      <th>...</th>\n",
       "      <td>...</td>\n",
       "      <td>...</td>\n",
       "    </tr>\n",
       "    <tr>\n",
       "      <th>7495</th>\n",
       "      <td>0.0</td>\n",
       "      <td>0.0</td>\n",
       "    </tr>\n",
       "    <tr>\n",
       "      <th>7496</th>\n",
       "      <td>0.0</td>\n",
       "      <td>0.0</td>\n",
       "    </tr>\n",
       "    <tr>\n",
       "      <th>7497</th>\n",
       "      <td>0.0</td>\n",
       "      <td>0.0</td>\n",
       "    </tr>\n",
       "    <tr>\n",
       "      <th>7498</th>\n",
       "      <td>0.0</td>\n",
       "      <td>0.0</td>\n",
       "    </tr>\n",
       "    <tr>\n",
       "      <th>7499</th>\n",
       "      <td>0.0</td>\n",
       "      <td>0.0</td>\n",
       "    </tr>\n",
       "  </tbody>\n",
       "</table>\n",
       "<p>6558 rows × 2 columns</p>\n",
       "</div>"
      ],
      "text/plain": [
       "      Tax Liens  Tax Liens\n",
       "1           0.0        0.0\n",
       "2           0.0        0.0\n",
       "5           0.0        0.0\n",
       "6           0.0        0.0\n",
       "7           0.0        0.0\n",
       "...         ...        ...\n",
       "7495        0.0        0.0\n",
       "7496        0.0        0.0\n",
       "7497        0.0        0.0\n",
       "7498        0.0        0.0\n",
       "7499        0.0        0.0\n",
       "\n",
       "[6558 rows x 2 columns]"
      ]
     },
     "execution_count": 33,
     "metadata": {},
     "output_type": "execute_result"
    }
   ],
   "source": [
    "train_df.loc[train_df[\"Tax Liens\"] == train_df[\"Number of Credit Problems\"], [\"Tax Liens\", \"Tax Liens\"]]"
   ]
  },
  {
   "cell_type": "code",
   "execution_count": 34,
   "id": "9158e566",
   "metadata": {},
   "outputs": [
    {
     "data": {
      "text/plain": [
       "89"
      ]
     },
     "execution_count": 34,
     "metadata": {},
     "output_type": "execute_result"
    }
   ],
   "source": [
    "len(train_df.loc[(train_df[\"Tax Liens\"] == train_df[\"Number of Credit Problems\"]) & (train_df[\"Tax Liens\"] > 0), [\"Tax Liens\", \"Tax Liens\"]])"
   ]
  },
  {
   "cell_type": "markdown",
   "id": "ab190846",
   "metadata": {},
   "source": [
    "Случаев, когда эти два предиктора в наблюдении совпадают очень мало. Также видно, что оба предиктора несбалансированы, но это нормально, с учетом того, что вся выборка ожидаемо несбалансирована."
   ]
  },
  {
   "cell_type": "markdown",
   "id": "83e53197",
   "metadata": {},
   "source": [
    "### Проверка значимости предикторов"
   ]
  },
  {
   "cell_type": "markdown",
   "id": "d4221dd7",
   "metadata": {},
   "source": [
    "Выделим в новый датасет **train_df2** те наблюдения, в которых Annual Income и Credit Score заполнены. Я подозреваю, что эти два предиктора важны. Как поступать с теми, которые незаполнены, подумаем позже."
   ]
  },
  {
   "cell_type": "code",
   "execution_count": 35,
   "id": "1a108a08",
   "metadata": {},
   "outputs": [
    {
     "data": {
      "text/html": [
       "<div>\n",
       "<style scoped>\n",
       "    .dataframe tbody tr th:only-of-type {\n",
       "        vertical-align: middle;\n",
       "    }\n",
       "\n",
       "    .dataframe tbody tr th {\n",
       "        vertical-align: top;\n",
       "    }\n",
       "\n",
       "    .dataframe thead th {\n",
       "        text-align: right;\n",
       "    }\n",
       "</style>\n",
       "<table border=\"1\" class=\"dataframe\">\n",
       "  <thead>\n",
       "    <tr style=\"text-align: right;\">\n",
       "      <th></th>\n",
       "      <th>Annual Income</th>\n",
       "      <th>Years in current job</th>\n",
       "      <th>Tax Liens</th>\n",
       "      <th>Number of Open Accounts</th>\n",
       "      <th>Years of Credit History</th>\n",
       "      <th>Maximum Open Credit</th>\n",
       "      <th>Number of Credit Problems</th>\n",
       "      <th>Bankruptcies</th>\n",
       "      <th>Current Loan Amount</th>\n",
       "      <th>Current Credit Balance</th>\n",
       "      <th>...</th>\n",
       "      <th>Credit Score</th>\n",
       "      <th>Credit Default</th>\n",
       "      <th>Home Mortgage</th>\n",
       "      <th>Own Home</th>\n",
       "      <th>Rent</th>\n",
       "      <th>is_debt_cons</th>\n",
       "      <th>is_short_term</th>\n",
       "      <th>is_long_term</th>\n",
       "      <th>ai_nan</th>\n",
       "      <th>cs_nan</th>\n",
       "    </tr>\n",
       "  </thead>\n",
       "  <tbody>\n",
       "    <tr>\n",
       "      <th>0</th>\n",
       "      <td>482087.0</td>\n",
       "      <td>6</td>\n",
       "      <td>0.0</td>\n",
       "      <td>11.0</td>\n",
       "      <td>26.3</td>\n",
       "      <td>685960.0</td>\n",
       "      <td>1.0</td>\n",
       "      <td>1</td>\n",
       "      <td>99999999.0</td>\n",
       "      <td>47386.0</td>\n",
       "      <td>...</td>\n",
       "      <td>749.0</td>\n",
       "      <td>0</td>\n",
       "      <td>0</td>\n",
       "      <td>1</td>\n",
       "      <td>0</td>\n",
       "      <td>1</td>\n",
       "      <td>1</td>\n",
       "      <td>0</td>\n",
       "      <td>0</td>\n",
       "      <td>0</td>\n",
       "    </tr>\n",
       "    <tr>\n",
       "      <th>1</th>\n",
       "      <td>1025487.0</td>\n",
       "      <td>10</td>\n",
       "      <td>0.0</td>\n",
       "      <td>15.0</td>\n",
       "      <td>15.3</td>\n",
       "      <td>1181730.0</td>\n",
       "      <td>0.0</td>\n",
       "      <td>0</td>\n",
       "      <td>264968.0</td>\n",
       "      <td>394972.0</td>\n",
       "      <td>...</td>\n",
       "      <td>737.0</td>\n",
       "      <td>1</td>\n",
       "      <td>0</td>\n",
       "      <td>1</td>\n",
       "      <td>0</td>\n",
       "      <td>1</td>\n",
       "      <td>0</td>\n",
       "      <td>1</td>\n",
       "      <td>0</td>\n",
       "      <td>0</td>\n",
       "    </tr>\n",
       "    <tr>\n",
       "      <th>2</th>\n",
       "      <td>751412.0</td>\n",
       "      <td>8</td>\n",
       "      <td>0.0</td>\n",
       "      <td>11.0</td>\n",
       "      <td>35.0</td>\n",
       "      <td>1182434.0</td>\n",
       "      <td>0.0</td>\n",
       "      <td>0</td>\n",
       "      <td>99999999.0</td>\n",
       "      <td>308389.0</td>\n",
       "      <td>...</td>\n",
       "      <td>742.0</td>\n",
       "      <td>0</td>\n",
       "      <td>1</td>\n",
       "      <td>0</td>\n",
       "      <td>0</td>\n",
       "      <td>1</td>\n",
       "      <td>1</td>\n",
       "      <td>0</td>\n",
       "      <td>0</td>\n",
       "      <td>0</td>\n",
       "    </tr>\n",
       "    <tr>\n",
       "      <th>3</th>\n",
       "      <td>805068.0</td>\n",
       "      <td>6</td>\n",
       "      <td>0.0</td>\n",
       "      <td>8.0</td>\n",
       "      <td>22.5</td>\n",
       "      <td>147400.0</td>\n",
       "      <td>1.0</td>\n",
       "      <td>1</td>\n",
       "      <td>121396.0</td>\n",
       "      <td>95855.0</td>\n",
       "      <td>...</td>\n",
       "      <td>694.0</td>\n",
       "      <td>0</td>\n",
       "      <td>0</td>\n",
       "      <td>1</td>\n",
       "      <td>0</td>\n",
       "      <td>1</td>\n",
       "      <td>1</td>\n",
       "      <td>0</td>\n",
       "      <td>0</td>\n",
       "      <td>0</td>\n",
       "    </tr>\n",
       "    <tr>\n",
       "      <th>4</th>\n",
       "      <td>776264.0</td>\n",
       "      <td>8</td>\n",
       "      <td>0.0</td>\n",
       "      <td>13.0</td>\n",
       "      <td>13.6</td>\n",
       "      <td>385836.0</td>\n",
       "      <td>1.0</td>\n",
       "      <td>0</td>\n",
       "      <td>125840.0</td>\n",
       "      <td>93309.0</td>\n",
       "      <td>...</td>\n",
       "      <td>719.0</td>\n",
       "      <td>0</td>\n",
       "      <td>0</td>\n",
       "      <td>0</td>\n",
       "      <td>1</td>\n",
       "      <td>1</td>\n",
       "      <td>1</td>\n",
       "      <td>0</td>\n",
       "      <td>0</td>\n",
       "      <td>0</td>\n",
       "    </tr>\n",
       "    <tr>\n",
       "      <th>...</th>\n",
       "      <td>...</td>\n",
       "      <td>...</td>\n",
       "      <td>...</td>\n",
       "      <td>...</td>\n",
       "      <td>...</td>\n",
       "      <td>...</td>\n",
       "      <td>...</td>\n",
       "      <td>...</td>\n",
       "      <td>...</td>\n",
       "      <td>...</td>\n",
       "      <td>...</td>\n",
       "      <td>...</td>\n",
       "      <td>...</td>\n",
       "      <td>...</td>\n",
       "      <td>...</td>\n",
       "      <td>...</td>\n",
       "      <td>...</td>\n",
       "      <td>...</td>\n",
       "      <td>...</td>\n",
       "      <td>...</td>\n",
       "      <td>...</td>\n",
       "    </tr>\n",
       "    <tr>\n",
       "      <th>7495</th>\n",
       "      <td>402192.0</td>\n",
       "      <td>1</td>\n",
       "      <td>0.0</td>\n",
       "      <td>3.0</td>\n",
       "      <td>8.5</td>\n",
       "      <td>107866.0</td>\n",
       "      <td>0.0</td>\n",
       "      <td>0</td>\n",
       "      <td>129360.0</td>\n",
       "      <td>73492.0</td>\n",
       "      <td>...</td>\n",
       "      <td>697.0</td>\n",
       "      <td>0</td>\n",
       "      <td>0</td>\n",
       "      <td>0</td>\n",
       "      <td>1</td>\n",
       "      <td>0</td>\n",
       "      <td>1</td>\n",
       "      <td>0</td>\n",
       "      <td>0</td>\n",
       "      <td>0</td>\n",
       "    </tr>\n",
       "    <tr>\n",
       "      <th>7496</th>\n",
       "      <td>1533984.0</td>\n",
       "      <td>1</td>\n",
       "      <td>0.0</td>\n",
       "      <td>10.0</td>\n",
       "      <td>26.5</td>\n",
       "      <td>686312.0</td>\n",
       "      <td>0.0</td>\n",
       "      <td>0</td>\n",
       "      <td>444048.0</td>\n",
       "      <td>456399.0</td>\n",
       "      <td>...</td>\n",
       "      <td>7410.0</td>\n",
       "      <td>1</td>\n",
       "      <td>1</td>\n",
       "      <td>0</td>\n",
       "      <td>0</td>\n",
       "      <td>1</td>\n",
       "      <td>0</td>\n",
       "      <td>1</td>\n",
       "      <td>0</td>\n",
       "      <td>0</td>\n",
       "    </tr>\n",
       "    <tr>\n",
       "      <th>7497</th>\n",
       "      <td>1878910.0</td>\n",
       "      <td>6</td>\n",
       "      <td>0.0</td>\n",
       "      <td>12.0</td>\n",
       "      <td>32.1</td>\n",
       "      <td>1778920.0</td>\n",
       "      <td>0.0</td>\n",
       "      <td>0</td>\n",
       "      <td>99999999.0</td>\n",
       "      <td>477812.0</td>\n",
       "      <td>...</td>\n",
       "      <td>748.0</td>\n",
       "      <td>0</td>\n",
       "      <td>0</td>\n",
       "      <td>0</td>\n",
       "      <td>1</td>\n",
       "      <td>0</td>\n",
       "      <td>1</td>\n",
       "      <td>0</td>\n",
       "      <td>0</td>\n",
       "      <td>0</td>\n",
       "    </tr>\n",
       "    <tr>\n",
       "      <th>7498</th>\n",
       "      <td>1168386.0</td>\n",
       "      <td>6</td>\n",
       "      <td>0.0</td>\n",
       "      <td>21.0</td>\n",
       "      <td>26.5</td>\n",
       "      <td>1141250.0</td>\n",
       "      <td>0.0</td>\n",
       "      <td>0</td>\n",
       "      <td>615274.0</td>\n",
       "      <td>476064.0</td>\n",
       "      <td>...</td>\n",
       "      <td>731.0</td>\n",
       "      <td>0</td>\n",
       "      <td>1</td>\n",
       "      <td>0</td>\n",
       "      <td>0</td>\n",
       "      <td>1</td>\n",
       "      <td>1</td>\n",
       "      <td>0</td>\n",
       "      <td>1</td>\n",
       "      <td>1</td>\n",
       "    </tr>\n",
       "    <tr>\n",
       "      <th>7499</th>\n",
       "      <td>1168386.0</td>\n",
       "      <td>4</td>\n",
       "      <td>0.0</td>\n",
       "      <td>8.0</td>\n",
       "      <td>9.4</td>\n",
       "      <td>480832.0</td>\n",
       "      <td>0.0</td>\n",
       "      <td>0</td>\n",
       "      <td>26928.0</td>\n",
       "      <td>288192.0</td>\n",
       "      <td>...</td>\n",
       "      <td>731.0</td>\n",
       "      <td>0</td>\n",
       "      <td>0</td>\n",
       "      <td>0</td>\n",
       "      <td>1</td>\n",
       "      <td>1</td>\n",
       "      <td>1</td>\n",
       "      <td>0</td>\n",
       "      <td>1</td>\n",
       "      <td>1</td>\n",
       "    </tr>\n",
       "  </tbody>\n",
       "</table>\n",
       "<p>7500 rows × 21 columns</p>\n",
       "</div>"
      ],
      "text/plain": [
       "      Annual Income  Years in current job  Tax Liens  Number of Open Accounts  \\\n",
       "0          482087.0                     6        0.0                     11.0   \n",
       "1         1025487.0                    10        0.0                     15.0   \n",
       "2          751412.0                     8        0.0                     11.0   \n",
       "3          805068.0                     6        0.0                      8.0   \n",
       "4          776264.0                     8        0.0                     13.0   \n",
       "...             ...                   ...        ...                      ...   \n",
       "7495       402192.0                     1        0.0                      3.0   \n",
       "7496      1533984.0                     1        0.0                     10.0   \n",
       "7497      1878910.0                     6        0.0                     12.0   \n",
       "7498      1168386.0                     6        0.0                     21.0   \n",
       "7499      1168386.0                     4        0.0                      8.0   \n",
       "\n",
       "      Years of Credit History  Maximum Open Credit  Number of Credit Problems  \\\n",
       "0                        26.3             685960.0                        1.0   \n",
       "1                        15.3            1181730.0                        0.0   \n",
       "2                        35.0            1182434.0                        0.0   \n",
       "3                        22.5             147400.0                        1.0   \n",
       "4                        13.6             385836.0                        1.0   \n",
       "...                       ...                  ...                        ...   \n",
       "7495                      8.5             107866.0                        0.0   \n",
       "7496                     26.5             686312.0                        0.0   \n",
       "7497                     32.1            1778920.0                        0.0   \n",
       "7498                     26.5            1141250.0                        0.0   \n",
       "7499                      9.4             480832.0                        0.0   \n",
       "\n",
       "      Bankruptcies  Current Loan Amount  Current Credit Balance  ...  \\\n",
       "0                1           99999999.0                 47386.0  ...   \n",
       "1                0             264968.0                394972.0  ...   \n",
       "2                0           99999999.0                308389.0  ...   \n",
       "3                1             121396.0                 95855.0  ...   \n",
       "4                0             125840.0                 93309.0  ...   \n",
       "...            ...                  ...                     ...  ...   \n",
       "7495             0             129360.0                 73492.0  ...   \n",
       "7496             0             444048.0                456399.0  ...   \n",
       "7497             0           99999999.0                477812.0  ...   \n",
       "7498             0             615274.0                476064.0  ...   \n",
       "7499             0              26928.0                288192.0  ...   \n",
       "\n",
       "      Credit Score  Credit Default  Home Mortgage  Own Home  Rent  \\\n",
       "0            749.0               0              0         1     0   \n",
       "1            737.0               1              0         1     0   \n",
       "2            742.0               0              1         0     0   \n",
       "3            694.0               0              0         1     0   \n",
       "4            719.0               0              0         0     1   \n",
       "...            ...             ...            ...       ...   ...   \n",
       "7495         697.0               0              0         0     1   \n",
       "7496        7410.0               1              1         0     0   \n",
       "7497         748.0               0              0         0     1   \n",
       "7498         731.0               0              1         0     0   \n",
       "7499         731.0               0              0         0     1   \n",
       "\n",
       "      is_debt_cons  is_short_term  is_long_term  ai_nan  cs_nan  \n",
       "0                1              1             0       0       0  \n",
       "1                1              0             1       0       0  \n",
       "2                1              1             0       0       0  \n",
       "3                1              1             0       0       0  \n",
       "4                1              1             0       0       0  \n",
       "...            ...            ...           ...     ...     ...  \n",
       "7495             0              1             0       0       0  \n",
       "7496             1              0             1       0       0  \n",
       "7497             0              1             0       0       0  \n",
       "7498             1              1             0       1       1  \n",
       "7499             1              1             0       1       1  \n",
       "\n",
       "[7500 rows x 21 columns]"
      ]
     },
     "execution_count": 35,
     "metadata": {},
     "output_type": "execute_result"
    }
   ],
   "source": [
    "train_df2 = train_df.loc[train_df[\"Annual Income\"].isna() == False, :]\n",
    "train_df2"
   ]
  },
  {
   "cell_type": "markdown",
   "id": "2d450709",
   "metadata": {},
   "source": [
    "Не сильно заморачиваясь, построим простое дерево с глубиной 5. Просто, чтобы посмотреть как это выглядит и заодно понять, удается ли добиться большой чистоты с этой глубиной."
   ]
  },
  {
   "cell_type": "code",
   "execution_count": 36,
   "id": "d0a40eb0",
   "metadata": {},
   "outputs": [
    {
     "data": {
      "text/plain": [
       "DecisionTreeClassifier(max_depth=5)"
      ]
     },
     "execution_count": 36,
     "metadata": {},
     "output_type": "execute_result"
    }
   ],
   "source": [
    "from sklearn.tree import DecisionTreeClassifier\n",
    "X = train_df2.drop([\"Credit Default\"], axis = 1)\n",
    "y = train_df2[\"Credit Default\"]\n",
    "\n",
    "pred_eval_model = DecisionTreeClassifier(max_depth = 5)\n",
    "pred_eval_model.fit(X, y)"
   ]
  },
  {
   "cell_type": "code",
   "execution_count": 37,
   "id": "10e22fef",
   "metadata": {},
   "outputs": [],
   "source": [
    "from sklearn.tree import export_graphviz\n",
    "export_graphviz(\n",
    "pred_eval_model,\n",
    "out_file=\"credit_dataset_tree_depth5.dot\",\n",
    "feature_names=X.columns,\n",
    "class_names=[\"1\", \"0\"],\n",
    "node_ids=True,\n",
    "rounded=True,\n",
    "filled=True\n",
    ")"
   ]
  },
  {
   "cell_type": "markdown",
   "id": "bde2397e",
   "metadata": {},
   "source": [
    "Конвертируем в png командой (на линуксовой системе):  \n",
    "dot -Tpng credit_dataset_tree_depth5.dot -o credit_dataset_tree_depth5.png  \n",
    "**Изображение я включу в набор файлов курсовой**"
   ]
  },
  {
   "cell_type": "markdown",
   "id": "8c33cbbe",
   "metadata": {},
   "source": [
    "На изображении видно, что у нас много листьев с чистотой ~ 0.3 - 0.4. Хотелось бы добиться большей чистоты. Для этого увеличим глубину до 20."
   ]
  },
  {
   "cell_type": "code",
   "execution_count": 38,
   "id": "9e6b6202",
   "metadata": {},
   "outputs": [
    {
     "data": {
      "text/plain": [
       "DecisionTreeClassifier(max_depth=20)"
      ]
     },
     "execution_count": 38,
     "metadata": {},
     "output_type": "execute_result"
    }
   ],
   "source": [
    "pred_eval_model = DecisionTreeClassifier(max_depth = 20)\n",
    "pred_eval_model.fit(X, y)"
   ]
  },
  {
   "cell_type": "markdown",
   "id": "e00eb733",
   "metadata": {},
   "source": [
    "Посчитаем значимость с помощью атрибута feature_importances_. Каждый предиктор оценивается исходя из того, сколько раз он применялся для улучшения чистоты. Результат нормализуется."
   ]
  },
  {
   "cell_type": "code",
   "execution_count": 39,
   "id": "19446ee2",
   "metadata": {},
   "outputs": [
    {
     "data": {
      "text/html": [
       "<div>\n",
       "<style scoped>\n",
       "    .dataframe tbody tr th:only-of-type {\n",
       "        vertical-align: middle;\n",
       "    }\n",
       "\n",
       "    .dataframe tbody tr th {\n",
       "        vertical-align: top;\n",
       "    }\n",
       "\n",
       "    .dataframe thead th {\n",
       "        text-align: right;\n",
       "    }\n",
       "</style>\n",
       "<table border=\"1\" class=\"dataframe\">\n",
       "  <thead>\n",
       "    <tr style=\"text-align: right;\">\n",
       "      <th></th>\n",
       "      <th>feature</th>\n",
       "      <th>importance</th>\n",
       "    </tr>\n",
       "  </thead>\n",
       "  <tbody>\n",
       "    <tr>\n",
       "      <th>11</th>\n",
       "      <td>Credit Score</td>\n",
       "      <td>0.248357</td>\n",
       "    </tr>\n",
       "    <tr>\n",
       "      <th>8</th>\n",
       "      <td>Current Loan Amount</td>\n",
       "      <td>0.144663</td>\n",
       "    </tr>\n",
       "    <tr>\n",
       "      <th>5</th>\n",
       "      <td>Maximum Open Credit</td>\n",
       "      <td>0.100604</td>\n",
       "    </tr>\n",
       "    <tr>\n",
       "      <th>0</th>\n",
       "      <td>Annual Income</td>\n",
       "      <td>0.090972</td>\n",
       "    </tr>\n",
       "    <tr>\n",
       "      <th>4</th>\n",
       "      <td>Years of Credit History</td>\n",
       "      <td>0.087148</td>\n",
       "    </tr>\n",
       "    <tr>\n",
       "      <th>10</th>\n",
       "      <td>Monthly Debt</td>\n",
       "      <td>0.086007</td>\n",
       "    </tr>\n",
       "    <tr>\n",
       "      <th>9</th>\n",
       "      <td>Current Credit Balance</td>\n",
       "      <td>0.076655</td>\n",
       "    </tr>\n",
       "    <tr>\n",
       "      <th>3</th>\n",
       "      <td>Number of Open Accounts</td>\n",
       "      <td>0.058297</td>\n",
       "    </tr>\n",
       "    <tr>\n",
       "      <th>1</th>\n",
       "      <td>Years in current job</td>\n",
       "      <td>0.032201</td>\n",
       "    </tr>\n",
       "    <tr>\n",
       "      <th>16</th>\n",
       "      <td>is_short_term</td>\n",
       "      <td>0.032190</td>\n",
       "    </tr>\n",
       "    <tr>\n",
       "      <th>14</th>\n",
       "      <td>Rent</td>\n",
       "      <td>0.007992</td>\n",
       "    </tr>\n",
       "    <tr>\n",
       "      <th>12</th>\n",
       "      <td>Home Mortgage</td>\n",
       "      <td>0.007815</td>\n",
       "    </tr>\n",
       "    <tr>\n",
       "      <th>15</th>\n",
       "      <td>is_debt_cons</td>\n",
       "      <td>0.007379</td>\n",
       "    </tr>\n",
       "    <tr>\n",
       "      <th>6</th>\n",
       "      <td>Number of Credit Problems</td>\n",
       "      <td>0.006990</td>\n",
       "    </tr>\n",
       "    <tr>\n",
       "      <th>7</th>\n",
       "      <td>Bankruptcies</td>\n",
       "      <td>0.003978</td>\n",
       "    </tr>\n",
       "    <tr>\n",
       "      <th>2</th>\n",
       "      <td>Tax Liens</td>\n",
       "      <td>0.003163</td>\n",
       "    </tr>\n",
       "    <tr>\n",
       "      <th>13</th>\n",
       "      <td>Own Home</td>\n",
       "      <td>0.002888</td>\n",
       "    </tr>\n",
       "    <tr>\n",
       "      <th>18</th>\n",
       "      <td>ai_nan</td>\n",
       "      <td>0.002273</td>\n",
       "    </tr>\n",
       "    <tr>\n",
       "      <th>19</th>\n",
       "      <td>cs_nan</td>\n",
       "      <td>0.000428</td>\n",
       "    </tr>\n",
       "    <tr>\n",
       "      <th>17</th>\n",
       "      <td>is_long_term</td>\n",
       "      <td>0.000000</td>\n",
       "    </tr>\n",
       "  </tbody>\n",
       "</table>\n",
       "</div>"
      ],
      "text/plain": [
       "                      feature  importance\n",
       "11               Credit Score    0.248357\n",
       "8         Current Loan Amount    0.144663\n",
       "5         Maximum Open Credit    0.100604\n",
       "0               Annual Income    0.090972\n",
       "4     Years of Credit History    0.087148\n",
       "10               Monthly Debt    0.086007\n",
       "9      Current Credit Balance    0.076655\n",
       "3     Number of Open Accounts    0.058297\n",
       "1        Years in current job    0.032201\n",
       "16              is_short_term    0.032190\n",
       "14                       Rent    0.007992\n",
       "12              Home Mortgage    0.007815\n",
       "15               is_debt_cons    0.007379\n",
       "6   Number of Credit Problems    0.006990\n",
       "7                Bankruptcies    0.003978\n",
       "2                   Tax Liens    0.003163\n",
       "13                   Own Home    0.002888\n",
       "18                     ai_nan    0.002273\n",
       "19                     cs_nan    0.000428\n",
       "17               is_long_term    0.000000"
      ]
     },
     "execution_count": 39,
     "metadata": {},
     "output_type": "execute_result"
    }
   ],
   "source": [
    "pd.DataFrame({\"feature\": X.columns,\n",
    "              \"importance\": pred_eval_model.feature_importances_}\n",
    ").sort_values(\"importance\", ascending=False)"
   ]
  },
  {
   "cell_type": "markdown",
   "id": "1fbb847f",
   "metadata": {},
   "source": [
    "Исходя из этого я решил использовать те предикторы, у которых значимость более 0.01. Какую бы глубину мы не брали, видно, что Credit Score и Annual Income играют большую роль, и потому заполнение их пропусков важно."
   ]
  },
  {
   "cell_type": "markdown",
   "id": "9b4ea51e",
   "metadata": {},
   "source": [
    "Расщепим нашу трейн выборку на две выборки:  \n",
    "выборка A, где Credit Score и Annual Income заполена\n",
    "выборка B, где эти предикторы незаполнены.\n",
    "Из выборки А убираем все предикторы, значимость которых мы посчитали слишком низкой."
   ]
  },
  {
   "cell_type": "code",
   "execution_count": 40,
   "id": "c8f965e7",
   "metadata": {},
   "outputs": [],
   "source": [
    "predictors_to_drop = [\"is_short_term\", \"is_debt_cons\", \"Rent\", \"Home Mortgage\", \"Number of Credit Problems\", \"is_long_term\", \"Own Home\", \"Bankruptcies\", \"Tax Liens\", \"ai_nan\", \"cs_nan\"]\n",
    "train_df.drop(predictors_to_drop, axis = 1, inplace = True)"
   ]
  },
  {
   "cell_type": "markdown",
   "id": "3fb9a840",
   "metadata": {},
   "source": [
    "### Получение прогноза"
   ]
  },
  {
   "cell_type": "markdown",
   "id": "c8c821f0",
   "metadata": {},
   "source": [
    "Разобьем выборку на тренировочную и валидационную:"
   ]
  },
  {
   "cell_type": "code",
   "execution_count": 41,
   "id": "f7e0e2ac",
   "metadata": {},
   "outputs": [],
   "source": [
    "X = train_df.drop([\"Credit Default\"], axis = 1)\n",
    "y = train_df[\"Credit Default\"]"
   ]
  },
  {
   "cell_type": "code",
   "execution_count": 42,
   "id": "c07e33bc",
   "metadata": {},
   "outputs": [],
   "source": [
    "from sklearn.model_selection import train_test_split\n",
    "X_train, X_test, y_train, y_test = train_test_split(X, y, test_size=0.2, random_state=42, stratify=y)"
   ]
  },
  {
   "cell_type": "markdown",
   "id": "bfff6961",
   "metadata": {},
   "source": [
    "Сравним соотношение классов в обеих полученных наборах:"
   ]
  },
  {
   "cell_type": "code",
   "execution_count": 43,
   "id": "c242bd45",
   "metadata": {},
   "outputs": [
    {
     "name": "stdout",
     "output_type": "stream",
     "text": [
      "2.5502958579881656 2.5460992907801416\n"
     ]
    }
   ],
   "source": [
    "print(y_train.value_counts()[0]/y_train.value_counts()[1], y_test.value_counts()[0]/y_test.value_counts()[1])"
   ]
  },
  {
   "cell_type": "code",
   "execution_count": 44,
   "id": "c4ee426a",
   "metadata": {},
   "outputs": [],
   "source": [
    "import xgboost as xgb\n",
    "from sklearn.metrics import classification_report\n",
    "model_xgb = xgb.XGBClassifier(random_state=10)\n",
    "model_xgb.fit(X_train, y_train)\n",
    "\n",
    "y_train_pred = model_xgb.predict(X_train)\n",
    "y_test_pred = model_xgb.predict(X_test)"
   ]
  },
  {
   "cell_type": "markdown",
   "id": "9ea68cb1",
   "metadata": {},
   "source": [
    "Добавим функцию оценки качества:"
   ]
  },
  {
   "cell_type": "code",
   "execution_count": 45,
   "id": "04870c38",
   "metadata": {},
   "outputs": [
    {
     "name": "stdout",
     "output_type": "stream",
     "text": [
      "TRAIN\n",
      "\n",
      "              precision    recall  f1-score   support\n",
      "\n",
      "           0       0.92      1.00      0.96      4310\n",
      "           1       0.99      0.78      0.87      1690\n",
      "\n",
      "    accuracy                           0.94      6000\n",
      "   macro avg       0.96      0.89      0.91      6000\n",
      "weighted avg       0.94      0.94      0.93      6000\n",
      "\n",
      "TEST\n",
      "\n",
      "              precision    recall  f1-score   support\n",
      "\n",
      "           0       0.78      0.91      0.84      1077\n",
      "           1       0.60      0.35      0.44       423\n",
      "\n",
      "    accuracy                           0.75      1500\n",
      "   macro avg       0.69      0.63      0.64      1500\n",
      "weighted avg       0.73      0.75      0.73      1500\n",
      "\n"
     ]
    }
   ],
   "source": [
    "def get_classification_report(y_train_true, y_train_pred, y_test_true, y_test_pred):\n",
    "    print('TRAIN\\n\\n' + classification_report(y_train_true, y_train_pred))\n",
    "    print('TEST\\n\\n' + classification_report(y_test_true, y_test_pred))\n",
    "#     print('CONFUSION MATRIX\\n')\n",
    "#     print(pd.crosstab(y_test_true, y_test_pred))\n",
    "    \n",
    "get_classification_report(y_train, y_train_pred, y_test, y_test_pred)"
   ]
  },
  {
   "cell_type": "markdown",
   "id": "3edc9306",
   "metadata": {},
   "source": [
    "Видим, что на трейне и тесте есть большая разница между метриками качества. Особенно проседает основной класс, который встречается реже. Чтобы уменьшить влияние переобучения, попробуем добавить oversampling, с помощью функции из 3-его урока:"
   ]
  },
  {
   "cell_type": "code",
   "execution_count": 46,
   "id": "5e61ceb0",
   "metadata": {},
   "outputs": [],
   "source": [
    "def balance_df_by_target(df, target_name):\n",
    "\n",
    "    target_counts = df[target_name].value_counts()\n",
    "\n",
    "    major_class_name = target_counts.argmax()\n",
    "    minor_class_name = target_counts.argmin()\n",
    "\n",
    "    disbalance_coeff = int(target_counts[major_class_name] / target_counts[minor_class_name]) - 1\n",
    "\n",
    "    for i in range(disbalance_coeff):\n",
    "        sample = df[df[target_name] == minor_class_name].sample(target_counts[minor_class_name])\n",
    "        df = pd.concat([df, sample], ignore_index=True)\n",
    "\n",
    "    return df"
   ]
  },
  {
   "cell_type": "markdown",
   "id": "5e9163aa",
   "metadata": {},
   "source": [
    "Применяем oversampling:"
   ]
  },
  {
   "cell_type": "code",
   "execution_count": 47,
   "id": "faac73d7",
   "metadata": {},
   "outputs": [
    {
     "data": {
      "text/plain": [
       "0    5387\n",
       "1    4226\n",
       "Name: Credit Default, dtype: int64"
      ]
     },
     "execution_count": 47,
     "metadata": {},
     "output_type": "execute_result"
    }
   ],
   "source": [
    "train_df = balance_df_by_target(train_df, \"Credit Default\")\n",
    "train_df[\"Credit Default\"].value_counts()"
   ]
  },
  {
   "cell_type": "code",
   "execution_count": 48,
   "id": "612a7fb0",
   "metadata": {},
   "outputs": [],
   "source": [
    "X = train_df.drop([\"Credit Default\"], axis = 1)\n",
    "y = train_df[\"Credit Default\"]\n",
    "X_train, X_test, y_train, y_test = train_test_split(X, y, test_size=0.2, random_state=42, stratify=y)"
   ]
  },
  {
   "cell_type": "markdown",
   "id": "0c64a802",
   "metadata": {},
   "source": [
    "Соотношение классов в трейне и тесте:"
   ]
  },
  {
   "cell_type": "code",
   "execution_count": 49,
   "id": "0b541c27",
   "metadata": {},
   "outputs": [
    {
     "name": "stdout",
     "output_type": "stream",
     "text": [
      "1.2744750073942621 1.2757396449704141\n"
     ]
    }
   ],
   "source": [
    "print(y_train.value_counts()[0]/y_train.value_counts()[1], y_test.value_counts()[0]/y_test.value_counts()[1])"
   ]
  },
  {
   "cell_type": "markdown",
   "id": "e9273451",
   "metadata": {},
   "source": [
    "Опять обучаем модель и смотрим результаты:"
   ]
  },
  {
   "cell_type": "code",
   "execution_count": 50,
   "id": "f2ecc1f1",
   "metadata": {},
   "outputs": [
    {
     "name": "stdout",
     "output_type": "stream",
     "text": [
      "TRAIN\n",
      "\n",
      "              precision    recall  f1-score   support\n",
      "\n",
      "           0       0.94      0.96      0.95      4309\n",
      "           1       0.95      0.93      0.94      3381\n",
      "\n",
      "    accuracy                           0.95      7690\n",
      "   macro avg       0.95      0.95      0.95      7690\n",
      "weighted avg       0.95      0.95      0.95      7690\n",
      "\n",
      "TEST\n",
      "\n",
      "              precision    recall  f1-score   support\n",
      "\n",
      "           0       0.82      0.80      0.81      1078\n",
      "           1       0.76      0.78      0.77       845\n",
      "\n",
      "    accuracy                           0.79      1923\n",
      "   macro avg       0.79      0.79      0.79      1923\n",
      "weighted avg       0.79      0.79      0.79      1923\n",
      "\n"
     ]
    }
   ],
   "source": [
    "model_xgb = xgb.XGBClassifier(random_state=10)\n",
    "model_xgb.fit(X_train, y_train)\n",
    "\n",
    "y_train_pred = model_xgb.predict(X_train)\n",
    "y_test_pred = model_xgb.predict(X_test)\n",
    "get_classification_report(y_train, y_train_pred, y_test, y_test_pred)"
   ]
  },
  {
   "cell_type": "markdown",
   "id": "283d4a9e",
   "metadata": {},
   "source": [
    "F1, precision и recall для класса 1 на трейне сильно выросли. Тем не менее разница между трейном и тестом ощутимая. Попробуем кросс-валидацию c сеткой параметров, которые помогут уменьшить переобучение:"
   ]
  },
  {
   "cell_type": "code",
   "execution_count": 51,
   "id": "83d79d26",
   "metadata": {},
   "outputs": [
    {
     "name": "stdout",
     "output_type": "stream",
     "text": [
      "CPU times: total: 22.6 s\n",
      "Wall time: 3min 6s\n"
     ]
    },
    {
     "data": {
      "text/plain": [
       "GridSearchCV(cv=5,\n",
       "             estimator=XGBClassifier(base_score=None, booster=None,\n",
       "                                     callbacks=None, colsample_bylevel=None,\n",
       "                                     colsample_bynode=None,\n",
       "                                     colsample_bytree=None,\n",
       "                                     early_stopping_rounds=None,\n",
       "                                     enable_categorical=False, eval_metric=None,\n",
       "                                     gamma=None, gpu_id=None, grow_policy=None,\n",
       "                                     importance_type=None,\n",
       "                                     interaction_constraints=None,\n",
       "                                     learning_rate=None, max_bin=None,\n",
       "                                     max_ca...\n",
       "                                     max_delta_step=None, max_depth=None,\n",
       "                                     max_leaves=None, min_child_weight=None,\n",
       "                                     missing=nan, monotone_constraints=None,\n",
       "                                     n_estimators=100, n_jobs=None,\n",
       "                                     num_parallel_tree=None, predictor=None,\n",
       "                                     random_state=None, reg_alpha=None,\n",
       "                                     reg_lambda=None, ...),\n",
       "             n_jobs=5,\n",
       "             param_grid={'learning_rate': [0.01, 0.05, 0.1],\n",
       "                         'max_depth': [6, 12, 20], 'n_estimators': [100, 200],\n",
       "                         'subsample': [0.1, 0.5, 1]},\n",
       "             scoring='f1')"
      ]
     },
     "execution_count": 51,
     "metadata": {},
     "output_type": "execute_result"
    }
   ],
   "source": [
    "%%time\n",
    "# from sklearn.ensemble import RandomForestClassifier\n",
    "from sklearn.model_selection import GridSearchCV\n",
    "from sklearn.metrics import f1_score, precision_score, recall_score\n",
    "\n",
    "parameters = {\n",
    "    'n_estimators': [100, 200],\n",
    "    'learning_rate': [0.01, 0.05, 0.1],\n",
    "    'max_depth': [6, 12, 20],\n",
    "    'subsample': [0.1, 0.5, 1] \n",
    "}\n",
    "\n",
    "clf = GridSearchCV(\n",
    "    estimator=xgb.XGBClassifier(),\n",
    "    param_grid=parameters,\n",
    "    scoring='f1',\n",
    "    cv=5,\n",
    "    n_jobs=5\n",
    ")\n",
    "\n",
    "clf.fit(X_train, y_train)"
   ]
  },
  {
   "cell_type": "markdown",
   "id": "2252080e",
   "metadata": {},
   "source": [
    "Узнаем лучшую комбинацию параметров:"
   ]
  },
  {
   "cell_type": "code",
   "execution_count": 52,
   "id": "480103f7",
   "metadata": {},
   "outputs": [
    {
     "data": {
      "text/plain": [
       "{'learning_rate': 0.05, 'max_depth': 20, 'n_estimators': 200, 'subsample': 1}"
      ]
     },
     "execution_count": 52,
     "metadata": {},
     "output_type": "execute_result"
    }
   ],
   "source": [
    "clf.best_params_"
   ]
  },
  {
   "cell_type": "markdown",
   "id": "a9a0987e",
   "metadata": {},
   "source": [
    "Обучим модель на этой комбинации:"
   ]
  },
  {
   "cell_type": "code",
   "execution_count": 53,
   "id": "2546622d",
   "metadata": {},
   "outputs": [
    {
     "name": "stdout",
     "output_type": "stream",
     "text": [
      "TRAIN\n",
      "\n",
      "              precision    recall  f1-score   support\n",
      "\n",
      "           0       1.00      1.00      1.00      4309\n",
      "           1       1.00      1.00      1.00      3381\n",
      "\n",
      "    accuracy                           1.00      7690\n",
      "   macro avg       1.00      1.00      1.00      7690\n",
      "weighted avg       1.00      1.00      1.00      7690\n",
      "\n",
      "TEST\n",
      "\n",
      "              precision    recall  f1-score   support\n",
      "\n",
      "           0       0.90      0.85      0.87      1078\n",
      "           1       0.82      0.88      0.85       845\n",
      "\n",
      "    accuracy                           0.86      1923\n",
      "   macro avg       0.86      0.86      0.86      1923\n",
      "weighted avg       0.86      0.86      0.86      1923\n",
      "\n"
     ]
    }
   ],
   "source": [
    "model_xgb = xgb.XGBClassifier(learning_rate = 0.05, max_depth = 20, n_estimators = 200, random_state=10)\n",
    "model_xgb.fit(X_train, y_train)\n",
    "y_train_pred = model_xgb.predict(X_train)\n",
    "y_test_pred = model_xgb.predict(X_test)\n",
    "get_classification_report(y_train, y_train_pred, y_test, y_test_pred)"
   ]
  },
  {
   "cell_type": "markdown",
   "id": "bd102914",
   "metadata": {},
   "source": [
    "Модель показывает идеальные результаты на трейне и достойные на тесте. Если учитывать тот факт, что это результат с кросс валидацией из 5 фолдов, а значит влияние переобучения мы свели то я думаю можно остановиться на этом результате."
   ]
  },
  {
   "cell_type": "markdown",
   "id": "442fdad3",
   "metadata": {},
   "source": [
    "По итогу получает следующий набор преобразований:"
   ]
  },
  {
   "cell_type": "code",
   "execution_count": 64,
   "id": "effe0187",
   "metadata": {},
   "outputs": [],
   "source": [
    "def credit_default_classifier(dataframe):\n",
    "    \n",
    "    dataframe[\"Years in current job\"].fillna(\"0 years\", inplace=True)\n",
    "    \n",
    "    \n",
    "    def convert_years(x):\n",
    "        if x == '10+ years':\n",
    "            return 10\n",
    "        elif x == '< 1 year':\n",
    "            return 1\n",
    "        else:\n",
    "            return str(x).split()[0]\n",
    "    \n",
    "    \n",
    "    dataframe[\"Years in current job\"] = dataframe[\"Years in current job\"].apply(convert_years).astype(np.int64)\n",
    "    dataframe.loc[dataframe[\"Years in current job\"] == 0, \"Years in current job\"] = dataframe[\"Years in current job\"].median()\n",
    "\n",
    "    dataframe.loc[dataframe[\"Home Ownership\"] == \"Have Mortgage\", \"Home Ownership\"] = \"Home Mortgage\"\n",
    "    dataframe = pd.concat([dataframe, pd.get_dummies(dataframe[\"Home Ownership\"], dtype=np.uint64)], axis=1)\n",
    "    dataframe.drop([\"Home Ownership\"], inplace=True, axis=1)\n",
    "\n",
    "    dataframe[\"is_debt_cons\"] = 0\n",
    "    dataframe.loc[dataframe[\"Purpose\"] == \"debt consolidation\", \"is_debt_cons\"] = 1\n",
    "    dataframe.drop([\"Purpose\"], inplace=True, axis=1)\n",
    "\n",
    "    dataframe[[\"is_short_term\", \"is_long_term\"]] = 0\n",
    "    dataframe.loc[dataframe[\"Term\"] == \"Short Term\", \"is_short_term\"] = 1\n",
    "    dataframe.loc[dataframe[\"Term\"] == \"Long Term\", \"is_long_term\"] = 1\n",
    "    dataframe.drop([\"Term\"], inplace=True, axis=1)\n",
    "\n",
    "    dataframe[\"ai_nan\"] = 0\n",
    "    dataframe.loc[dataframe[\"Annual Income\"].isna() == True, \"ai_nan\"] = 1\n",
    "    dataframe[\"Annual Income\"].fillna(dataframe[\"Annual Income\"].median(), inplace = True)\n",
    "\n",
    "    dataframe[\"cs_nan\"] = 0\n",
    "    dataframe.loc[dataframe[\"Credit Score\"].isna() == True, \"cs_nan\"] = 1\n",
    "    dataframe[\"Credit Score\"].fillna(dataframe[\"Credit Score\"].median(), inplace = True)\n",
    "\n",
    "    dataframe.drop([\"Months since last delinquent\"], inplace=True, axis=1)\n",
    "\n",
    "    dataframe[\"Bankruptcies\"].fillna(0, inplace=True)\n",
    "    dataframe[\"Bankruptcies\"] = dataframe[\"Bankruptcies\"].astype(np.int64)\n",
    "\n",
    "    predictors_to_drop = [\"is_short_term\", \"is_debt_cons\", \"Rent\", \"Home Mortgage\", \"Number of Credit Problems\", \"is_long_term\", \"Own Home\", \"Bankruptcies\", \"Tax Liens\", \"ai_nan\", \"cs_nan\"]\n",
    "    dataframe.drop(predictors_to_drop, axis = 1, inplace = True)\n",
    "\n",
    "    result = pd.Series(model_xgb.predict(dataframe))\n",
    "    print(result)\n",
    "    result.to_csv('TYunussov_predictions.csv', index = None)\n",
    "\n",
    "                              "
   ]
  },
  {
   "cell_type": "markdown",
   "id": "1cdeb0cd",
   "metadata": {},
   "source": [
    "Пропустим контрольный датасет через него:"
   ]
  },
  {
   "cell_type": "code",
   "execution_count": 65,
   "id": "ed3747e5",
   "metadata": {},
   "outputs": [
    {
     "name": "stdout",
     "output_type": "stream",
     "text": [
      "0       1\n",
      "1       1\n",
      "2       1\n",
      "3       0\n",
      "4       0\n",
      "       ..\n",
      "2495    0\n",
      "2496    1\n",
      "2497    0\n",
      "2498    1\n",
      "2499    1\n",
      "Length: 2500, dtype: int32\n"
     ]
    }
   ],
   "source": [
    "credit_default_classifier(test_df)"
   ]
  }
 ],
 "metadata": {
  "kernelspec": {
   "display_name": "Python 3 (ipykernel)",
   "language": "python",
   "name": "python3"
  },
  "language_info": {
   "codemirror_mode": {
    "name": "ipython",
    "version": 3
   },
   "file_extension": ".py",
   "mimetype": "text/x-python",
   "name": "python",
   "nbconvert_exporter": "python",
   "pygments_lexer": "ipython3",
   "version": "3.10.0"
  }
 },
 "nbformat": 4,
 "nbformat_minor": 5
}
